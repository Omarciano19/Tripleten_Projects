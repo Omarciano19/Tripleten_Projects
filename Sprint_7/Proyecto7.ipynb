{
 "cells": [
  {
   "cell_type": "markdown",
   "metadata": {},
   "source": [
    "Omar Mancilla Martínez\n",
    "\n",
    "# Análisis exploratorio: Taxis \n",
    "\n",
    "## Introducción \n",
    "\n",
    "Buscamos explorar la relación entre el clima y el tiempo de viaje de los taxis, en particular abordaremos la hipotesis:\n",
    "\n",
    "*\"La duración promedio de los viajes desde el Loop hasta el Aeropuerto Internacional O'Hare cambia los sábados lluviosos\".*\n",
    "\n",
    "Para ello, exploraremos los comportamientos de las distintas empresas de taxis, los viajes que realizan, los destinos mas comunes y el efecto del clima al inicio de los viajes.\n",
    "\n",
    "Los objetivos de este informe son:\n",
    "\n",
    "- Cargar y explorar los datos\n",
    "- Pre-procesar: depurar, organizar y enriquecer los datos\n",
    "- Analizar: Encontrar relaciones entre viajes y clima.\n",
    "- Corroborar estadisticamente lo obtenido del analisis.\n",
    "\n",
    "Iniciaremos con el \n",
    "## Pre-proseamiento de datos\n"
   ]
  },
  {
   "cell_type": "code",
   "execution_count": 1,
   "metadata": {},
   "outputs": [],
   "source": [
    "# Cargar todas las librerías\n",
    "from scipy import stats as st\n",
    "import numpy as np\n",
    "import pandas as pd\n",
    "import math as mt\n",
    "from matplotlib import pyplot as plt\n",
    "import matplotlib.ticker as ticker\n",
    "import plotly.express as px\n",
    "import plotly.graph_objs as go\n",
    "from plotly.subplots import make_subplots\n",
    "import seaborn as sns\n",
    "\n",
    "\n",
    "from IPython.display import display\n",
    "from IPython.display import HTML"
   ]
  },
  {
   "cell_type": "code",
   "execution_count": 2,
   "metadata": {},
   "outputs": [],
   "source": [
    "# Cargar DF\n",
    "df_company_trips = pd.read_csv(\"./datasets/project_sql_result_01.csv\")\n",
    "df_drop_avg = pd.read_csv(\"./datasets/project_sql_result_04.csv\")\n",
    "df_loop_ohare = pd.read_csv(\"./datasets/project_sql_result_07.csv\")"
   ]
  },
  {
   "cell_type": "markdown",
   "metadata": {},
   "source": [
    "### Diccionario de datos:\n",
    "df_company_trips:\n",
    "\n",
    "- company_name: nombre de la empresa de taxis\n",
    "- trips_amount: el número de viajes de cada compañía de taxis el 15 y 16 de noviembre de 2017. \n",
    "\n",
    "df_drop_avg:\n",
    "\n",
    "- dropoff_location_name: barrios de Chicago donde finalizaron los viajes\n",
    "- average_trips: el promedio de viajes que terminaron en cada barrio en noviembre de 2017.\n",
    "\n",
    "df_loop_ohare:\n",
    "\n",
    "- start_ts: fecha y hora de la recogida.\n",
    "- weather_conditions:  condiciones climáticas en el momento en el que comenzó el viaje.\n",
    "- duration_seconds: duración del viaje en segundos.\n"
   ]
  },
  {
   "cell_type": "code",
   "execution_count": 3,
   "metadata": {},
   "outputs": [
    {
     "data": {
      "text/html": [
       "<div>\n",
       "<style scoped>\n",
       "    .dataframe tbody tr th:only-of-type {\n",
       "        vertical-align: middle;\n",
       "    }\n",
       "\n",
       "    .dataframe tbody tr th {\n",
       "        vertical-align: top;\n",
       "    }\n",
       "\n",
       "    .dataframe thead th {\n",
       "        text-align: right;\n",
       "    }\n",
       "</style>\n",
       "<table border=\"1\" class=\"dataframe\">\n",
       "  <thead>\n",
       "    <tr style=\"text-align: right;\">\n",
       "      <th></th>\n",
       "      <th>company_name</th>\n",
       "      <th>trips_amount</th>\n",
       "    </tr>\n",
       "  </thead>\n",
       "  <tbody>\n",
       "    <tr>\n",
       "      <th>9</th>\n",
       "      <td>Blue Ribbon Taxi Association Inc.</td>\n",
       "      <td>5953</td>\n",
       "    </tr>\n",
       "    <tr>\n",
       "      <th>58</th>\n",
       "      <td>5062 - 34841 Sam Mestas</td>\n",
       "      <td>8</td>\n",
       "    </tr>\n",
       "    <tr>\n",
       "      <th>43</th>\n",
       "      <td>2809 - 95474 C &amp; D Cab Co Inc.</td>\n",
       "      <td>29</td>\n",
       "    </tr>\n",
       "    <tr>\n",
       "      <th>24</th>\n",
       "      <td>Chicago Taxicab</td>\n",
       "      <td>1014</td>\n",
       "    </tr>\n",
       "    <tr>\n",
       "      <th>8</th>\n",
       "      <td>Star North Management LLC</td>\n",
       "      <td>7455</td>\n",
       "    </tr>\n",
       "    <tr>\n",
       "      <th>19</th>\n",
       "      <td>Chicago Medallion Leasing INC</td>\n",
       "      <td>1607</td>\n",
       "    </tr>\n",
       "    <tr>\n",
       "      <th>62</th>\n",
       "      <td>2241 - 44667 - Felman Corp, Manuel Alonso</td>\n",
       "      <td>3</td>\n",
       "    </tr>\n",
       "    <tr>\n",
       "      <th>51</th>\n",
       "      <td>4623 - 27290 Jay Kim</td>\n",
       "      <td>15</td>\n",
       "    </tr>\n",
       "    <tr>\n",
       "      <th>27</th>\n",
       "      <td>Service Taxi Association</td>\n",
       "      <td>402</td>\n",
       "    </tr>\n",
       "    <tr>\n",
       "      <th>23</th>\n",
       "      <td>KOAM Taxi Association</td>\n",
       "      <td>1259</td>\n",
       "    </tr>\n",
       "  </tbody>\n",
       "</table>\n",
       "</div>"
      ],
      "text/plain": [
       "                                 company_name  trips_amount\n",
       "9           Blue Ribbon Taxi Association Inc.          5953\n",
       "58                    5062 - 34841 Sam Mestas             8\n",
       "43             2809 - 95474 C & D Cab Co Inc.            29\n",
       "24                            Chicago Taxicab          1014\n",
       "8                   Star North Management LLC          7455\n",
       "19              Chicago Medallion Leasing INC          1607\n",
       "62  2241 - 44667 - Felman Corp, Manuel Alonso             3\n",
       "51                       4623 - 27290 Jay Kim            15\n",
       "27                   Service Taxi Association           402\n",
       "23                      KOAM Taxi Association          1259"
      ]
     },
     "execution_count": 3,
     "metadata": {},
     "output_type": "execute_result"
    }
   ],
   "source": [
    "df_company_trips.sample(10)"
   ]
  },
  {
   "cell_type": "code",
   "execution_count": 4,
   "metadata": {},
   "outputs": [
    {
     "name": "stdout",
     "output_type": "stream",
     "text": [
      "<class 'pandas.core.frame.DataFrame'>\n",
      "RangeIndex: 64 entries, 0 to 63\n",
      "Data columns (total 2 columns):\n",
      " #   Column        Non-Null Count  Dtype \n",
      "---  ------        --------------  ----- \n",
      " 0   company_name  64 non-null     object\n",
      " 1   trips_amount  64 non-null     int64 \n",
      "dtypes: int64(1), object(1)\n",
      "memory usage: 1.1+ KB\n"
     ]
    }
   ],
   "source": [
    "df_company_trips.info()"
   ]
  },
  {
   "cell_type": "code",
   "execution_count": 5,
   "metadata": {},
   "outputs": [
    {
     "data": {
      "text/html": [
       "<div>\n",
       "<style scoped>\n",
       "    .dataframe tbody tr th:only-of-type {\n",
       "        vertical-align: middle;\n",
       "    }\n",
       "\n",
       "    .dataframe tbody tr th {\n",
       "        vertical-align: top;\n",
       "    }\n",
       "\n",
       "    .dataframe thead th {\n",
       "        text-align: right;\n",
       "    }\n",
       "</style>\n",
       "<table border=\"1\" class=\"dataframe\">\n",
       "  <thead>\n",
       "    <tr style=\"text-align: right;\">\n",
       "      <th></th>\n",
       "      <th>trips_amount</th>\n",
       "    </tr>\n",
       "  </thead>\n",
       "  <tbody>\n",
       "    <tr>\n",
       "      <th>count</th>\n",
       "      <td>64.000000</td>\n",
       "    </tr>\n",
       "    <tr>\n",
       "      <th>mean</th>\n",
       "      <td>2145.484375</td>\n",
       "    </tr>\n",
       "    <tr>\n",
       "      <th>std</th>\n",
       "      <td>3812.310186</td>\n",
       "    </tr>\n",
       "    <tr>\n",
       "      <th>min</th>\n",
       "      <td>2.000000</td>\n",
       "    </tr>\n",
       "    <tr>\n",
       "      <th>25%</th>\n",
       "      <td>20.750000</td>\n",
       "    </tr>\n",
       "    <tr>\n",
       "      <th>50%</th>\n",
       "      <td>178.500000</td>\n",
       "    </tr>\n",
       "    <tr>\n",
       "      <th>75%</th>\n",
       "      <td>2106.500000</td>\n",
       "    </tr>\n",
       "    <tr>\n",
       "      <th>max</th>\n",
       "      <td>19558.000000</td>\n",
       "    </tr>\n",
       "  </tbody>\n",
       "</table>\n",
       "</div>"
      ],
      "text/plain": [
       "       trips_amount\n",
       "count     64.000000\n",
       "mean    2145.484375\n",
       "std     3812.310186\n",
       "min        2.000000\n",
       "25%       20.750000\n",
       "50%      178.500000\n",
       "75%     2106.500000\n",
       "max    19558.000000"
      ]
     },
     "execution_count": 5,
     "metadata": {},
     "output_type": "execute_result"
    }
   ],
   "source": [
    "df_company_trips.describe()"
   ]
  },
  {
   "cell_type": "markdown",
   "metadata": {},
   "source": [
    "El primer dataframe parece estar en buenas condiciones.\n",
    "- sin datos faltantes\n",
    "- tipos de dato correctos\n",
    "\n",
    "Notamos que hay una fuerte discrepancia entre el promedio y la mediana."
   ]
  },
  {
   "cell_type": "code",
   "execution_count": 6,
   "metadata": {},
   "outputs": [
    {
     "data": {
      "text/html": [
       "<div>\n",
       "<style scoped>\n",
       "    .dataframe tbody tr th:only-of-type {\n",
       "        vertical-align: middle;\n",
       "    }\n",
       "\n",
       "    .dataframe tbody tr th {\n",
       "        vertical-align: top;\n",
       "    }\n",
       "\n",
       "    .dataframe thead th {\n",
       "        text-align: right;\n",
       "    }\n",
       "</style>\n",
       "<table border=\"1\" class=\"dataframe\">\n",
       "  <thead>\n",
       "    <tr style=\"text-align: right;\">\n",
       "      <th></th>\n",
       "      <th>dropoff_location_name</th>\n",
       "      <th>average_trips</th>\n",
       "    </tr>\n",
       "  </thead>\n",
       "  <tbody>\n",
       "    <tr>\n",
       "      <th>49</th>\n",
       "      <td>Sauganash,Forest Glen</td>\n",
       "      <td>43.566667</td>\n",
       "    </tr>\n",
       "    <tr>\n",
       "      <th>20</th>\n",
       "      <td>Rush &amp; Division</td>\n",
       "      <td>395.533333</td>\n",
       "    </tr>\n",
       "    <tr>\n",
       "      <th>41</th>\n",
       "      <td>North Park</td>\n",
       "      <td>67.833333</td>\n",
       "    </tr>\n",
       "    <tr>\n",
       "      <th>19</th>\n",
       "      <td>Old Town</td>\n",
       "      <td>469.566667</td>\n",
       "    </tr>\n",
       "    <tr>\n",
       "      <th>43</th>\n",
       "      <td>Mckinley Park</td>\n",
       "      <td>64.033333</td>\n",
       "    </tr>\n",
       "    <tr>\n",
       "      <th>61</th>\n",
       "      <td>Grand Crossing</td>\n",
       "      <td>22.600000</td>\n",
       "    </tr>\n",
       "    <tr>\n",
       "      <th>22</th>\n",
       "      <td>Lincoln Square</td>\n",
       "      <td>356.733333</td>\n",
       "    </tr>\n",
       "    <tr>\n",
       "      <th>8</th>\n",
       "      <td>Gold Coast</td>\n",
       "      <td>1364.233333</td>\n",
       "    </tr>\n",
       "    <tr>\n",
       "      <th>90</th>\n",
       "      <td>Hegewisch</td>\n",
       "      <td>3.117647</td>\n",
       "    </tr>\n",
       "    <tr>\n",
       "      <th>63</th>\n",
       "      <td>Andersonville</td>\n",
       "      <td>16.866667</td>\n",
       "    </tr>\n",
       "  </tbody>\n",
       "</table>\n",
       "</div>"
      ],
      "text/plain": [
       "    dropoff_location_name  average_trips\n",
       "49  Sauganash,Forest Glen      43.566667\n",
       "20        Rush & Division     395.533333\n",
       "41             North Park      67.833333\n",
       "19               Old Town     469.566667\n",
       "43          Mckinley Park      64.033333\n",
       "61         Grand Crossing      22.600000\n",
       "22         Lincoln Square     356.733333\n",
       "8              Gold Coast    1364.233333\n",
       "90              Hegewisch       3.117647\n",
       "63          Andersonville      16.866667"
      ]
     },
     "execution_count": 6,
     "metadata": {},
     "output_type": "execute_result"
    }
   ],
   "source": [
    "df_drop_avg.sample(10)"
   ]
  },
  {
   "cell_type": "code",
   "execution_count": 7,
   "metadata": {},
   "outputs": [
    {
     "name": "stdout",
     "output_type": "stream",
     "text": [
      "<class 'pandas.core.frame.DataFrame'>\n",
      "RangeIndex: 94 entries, 0 to 93\n",
      "Data columns (total 2 columns):\n",
      " #   Column                 Non-Null Count  Dtype  \n",
      "---  ------                 --------------  -----  \n",
      " 0   dropoff_location_name  94 non-null     object \n",
      " 1   average_trips          94 non-null     float64\n",
      "dtypes: float64(1), object(1)\n",
      "memory usage: 1.6+ KB\n"
     ]
    }
   ],
   "source": [
    "df_drop_avg.info()"
   ]
  },
  {
   "cell_type": "code",
   "execution_count": 8,
   "metadata": {},
   "outputs": [
    {
     "data": {
      "text/html": [
       "<div>\n",
       "<style scoped>\n",
       "    .dataframe tbody tr th:only-of-type {\n",
       "        vertical-align: middle;\n",
       "    }\n",
       "\n",
       "    .dataframe tbody tr th {\n",
       "        vertical-align: top;\n",
       "    }\n",
       "\n",
       "    .dataframe thead th {\n",
       "        text-align: right;\n",
       "    }\n",
       "</style>\n",
       "<table border=\"1\" class=\"dataframe\">\n",
       "  <thead>\n",
       "    <tr style=\"text-align: right;\">\n",
       "      <th></th>\n",
       "      <th>average_trips</th>\n",
       "    </tr>\n",
       "  </thead>\n",
       "  <tbody>\n",
       "    <tr>\n",
       "      <th>count</th>\n",
       "      <td>94.000000</td>\n",
       "    </tr>\n",
       "    <tr>\n",
       "      <th>mean</th>\n",
       "      <td>599.953728</td>\n",
       "    </tr>\n",
       "    <tr>\n",
       "      <th>std</th>\n",
       "      <td>1714.591098</td>\n",
       "    </tr>\n",
       "    <tr>\n",
       "      <th>min</th>\n",
       "      <td>1.800000</td>\n",
       "    </tr>\n",
       "    <tr>\n",
       "      <th>25%</th>\n",
       "      <td>14.266667</td>\n",
       "    </tr>\n",
       "    <tr>\n",
       "      <th>50%</th>\n",
       "      <td>52.016667</td>\n",
       "    </tr>\n",
       "    <tr>\n",
       "      <th>75%</th>\n",
       "      <td>298.858333</td>\n",
       "    </tr>\n",
       "    <tr>\n",
       "      <th>max</th>\n",
       "      <td>10727.466667</td>\n",
       "    </tr>\n",
       "  </tbody>\n",
       "</table>\n",
       "</div>"
      ],
      "text/plain": [
       "       average_trips\n",
       "count      94.000000\n",
       "mean      599.953728\n",
       "std      1714.591098\n",
       "min         1.800000\n",
       "25%        14.266667\n",
       "50%        52.016667\n",
       "75%       298.858333\n",
       "max     10727.466667"
      ]
     },
     "execution_count": 8,
     "metadata": {},
     "output_type": "execute_result"
    }
   ],
   "source": [
    "df_drop_avg.describe()"
   ]
  },
  {
   "cell_type": "markdown",
   "metadata": {},
   "source": [
    "notamos que el segundo dataframe igual esta en buenas condiciones:\n",
    " - sin datos nulos\n",
    " - los tipos de dato son correctos\n",
    "\n",
    "la mediana y la media difieren significativamente."
   ]
  },
  {
   "cell_type": "code",
   "execution_count": 9,
   "metadata": {},
   "outputs": [
    {
     "data": {
      "text/html": [
       "<div>\n",
       "<style scoped>\n",
       "    .dataframe tbody tr th:only-of-type {\n",
       "        vertical-align: middle;\n",
       "    }\n",
       "\n",
       "    .dataframe tbody tr th {\n",
       "        vertical-align: top;\n",
       "    }\n",
       "\n",
       "    .dataframe thead th {\n",
       "        text-align: right;\n",
       "    }\n",
       "</style>\n",
       "<table border=\"1\" class=\"dataframe\">\n",
       "  <thead>\n",
       "    <tr style=\"text-align: right;\">\n",
       "      <th></th>\n",
       "      <th>start_ts</th>\n",
       "      <th>weather_conditions</th>\n",
       "      <th>duration_seconds</th>\n",
       "    </tr>\n",
       "  </thead>\n",
       "  <tbody>\n",
       "    <tr>\n",
       "      <th>207</th>\n",
       "      <td>2017-11-11 08:00:00</td>\n",
       "      <td>Good</td>\n",
       "      <td>1200.0</td>\n",
       "    </tr>\n",
       "    <tr>\n",
       "      <th>835</th>\n",
       "      <td>2017-11-11 10:00:00</td>\n",
       "      <td>Good</td>\n",
       "      <td>1200.0</td>\n",
       "    </tr>\n",
       "    <tr>\n",
       "      <th>7</th>\n",
       "      <td>2017-11-18 11:00:00</td>\n",
       "      <td>Good</td>\n",
       "      <td>2280.0</td>\n",
       "    </tr>\n",
       "    <tr>\n",
       "      <th>560</th>\n",
       "      <td>2017-11-11 06:00:00</td>\n",
       "      <td>Good</td>\n",
       "      <td>1380.0</td>\n",
       "    </tr>\n",
       "    <tr>\n",
       "      <th>641</th>\n",
       "      <td>2017-11-11 14:00:00</td>\n",
       "      <td>Good</td>\n",
       "      <td>2100.0</td>\n",
       "    </tr>\n",
       "    <tr>\n",
       "      <th>1060</th>\n",
       "      <td>2017-11-04 14:00:00</td>\n",
       "      <td>Good</td>\n",
       "      <td>2700.0</td>\n",
       "    </tr>\n",
       "    <tr>\n",
       "      <th>661</th>\n",
       "      <td>2017-11-11 10:00:00</td>\n",
       "      <td>Good</td>\n",
       "      <td>1465.0</td>\n",
       "    </tr>\n",
       "    <tr>\n",
       "      <th>114</th>\n",
       "      <td>2017-11-11 16:00:00</td>\n",
       "      <td>Good</td>\n",
       "      <td>2591.0</td>\n",
       "    </tr>\n",
       "    <tr>\n",
       "      <th>426</th>\n",
       "      <td>2017-11-11 07:00:00</td>\n",
       "      <td>Good</td>\n",
       "      <td>1443.0</td>\n",
       "    </tr>\n",
       "    <tr>\n",
       "      <th>761</th>\n",
       "      <td>2017-11-04 17:00:00</td>\n",
       "      <td>Bad</td>\n",
       "      <td>2760.0</td>\n",
       "    </tr>\n",
       "  </tbody>\n",
       "</table>\n",
       "</div>"
      ],
      "text/plain": [
       "                 start_ts weather_conditions  duration_seconds\n",
       "207   2017-11-11 08:00:00               Good            1200.0\n",
       "835   2017-11-11 10:00:00               Good            1200.0\n",
       "7     2017-11-18 11:00:00               Good            2280.0\n",
       "560   2017-11-11 06:00:00               Good            1380.0\n",
       "641   2017-11-11 14:00:00               Good            2100.0\n",
       "1060  2017-11-04 14:00:00               Good            2700.0\n",
       "661   2017-11-11 10:00:00               Good            1465.0\n",
       "114   2017-11-11 16:00:00               Good            2591.0\n",
       "426   2017-11-11 07:00:00               Good            1443.0\n",
       "761   2017-11-04 17:00:00                Bad            2760.0"
      ]
     },
     "execution_count": 9,
     "metadata": {},
     "output_type": "execute_result"
    }
   ],
   "source": [
    "df_loop_ohare.sample(10)"
   ]
  },
  {
   "cell_type": "code",
   "execution_count": 10,
   "metadata": {},
   "outputs": [
    {
     "name": "stdout",
     "output_type": "stream",
     "text": [
      "<class 'pandas.core.frame.DataFrame'>\n",
      "RangeIndex: 1068 entries, 0 to 1067\n",
      "Data columns (total 3 columns):\n",
      " #   Column              Non-Null Count  Dtype  \n",
      "---  ------              --------------  -----  \n",
      " 0   start_ts            1068 non-null   object \n",
      " 1   weather_conditions  1068 non-null   object \n",
      " 2   duration_seconds    1068 non-null   float64\n",
      "dtypes: float64(1), object(2)\n",
      "memory usage: 25.2+ KB\n"
     ]
    }
   ],
   "source": [
    "df_loop_ohare.info()"
   ]
  },
  {
   "cell_type": "code",
   "execution_count": 11,
   "metadata": {
    "scrolled": true
   },
   "outputs": [
    {
     "data": {
      "text/html": [
       "<div>\n",
       "<style scoped>\n",
       "    .dataframe tbody tr th:only-of-type {\n",
       "        vertical-align: middle;\n",
       "    }\n",
       "\n",
       "    .dataframe tbody tr th {\n",
       "        vertical-align: top;\n",
       "    }\n",
       "\n",
       "    .dataframe thead th {\n",
       "        text-align: right;\n",
       "    }\n",
       "</style>\n",
       "<table border=\"1\" class=\"dataframe\">\n",
       "  <thead>\n",
       "    <tr style=\"text-align: right;\">\n",
       "      <th></th>\n",
       "      <th>duration_seconds</th>\n",
       "    </tr>\n",
       "  </thead>\n",
       "  <tbody>\n",
       "    <tr>\n",
       "      <th>count</th>\n",
       "      <td>1068.000000</td>\n",
       "    </tr>\n",
       "    <tr>\n",
       "      <th>mean</th>\n",
       "      <td>2071.731273</td>\n",
       "    </tr>\n",
       "    <tr>\n",
       "      <th>std</th>\n",
       "      <td>769.461125</td>\n",
       "    </tr>\n",
       "    <tr>\n",
       "      <th>min</th>\n",
       "      <td>0.000000</td>\n",
       "    </tr>\n",
       "    <tr>\n",
       "      <th>25%</th>\n",
       "      <td>1438.250000</td>\n",
       "    </tr>\n",
       "    <tr>\n",
       "      <th>50%</th>\n",
       "      <td>1980.000000</td>\n",
       "    </tr>\n",
       "    <tr>\n",
       "      <th>75%</th>\n",
       "      <td>2580.000000</td>\n",
       "    </tr>\n",
       "    <tr>\n",
       "      <th>max</th>\n",
       "      <td>7440.000000</td>\n",
       "    </tr>\n",
       "  </tbody>\n",
       "</table>\n",
       "</div>"
      ],
      "text/plain": [
       "       duration_seconds\n",
       "count       1068.000000\n",
       "mean        2071.731273\n",
       "std          769.461125\n",
       "min            0.000000\n",
       "25%         1438.250000\n",
       "50%         1980.000000\n",
       "75%         2580.000000\n",
       "max         7440.000000"
      ]
     },
     "execution_count": 11,
     "metadata": {},
     "output_type": "execute_result"
    }
   ],
   "source": [
    "df_loop_ohare.describe()"
   ]
  },
  {
   "cell_type": "markdown",
   "metadata": {},
   "source": [
    "Notamos lo siguiente del tercer dataframe:\n",
    "- No hay datos nulos\n",
    "- las marcas de tiempo tienen el tipo de dato incorrecto\n",
    "\n",
    "La media y mediana se encuentran en el mismo orden de magnitud."
   ]
  },
  {
   "cell_type": "code",
   "execution_count": 12,
   "metadata": {},
   "outputs": [
    {
     "data": {
      "text/html": [
       "<div>\n",
       "<style scoped>\n",
       "    .dataframe tbody tr th:only-of-type {\n",
       "        vertical-align: middle;\n",
       "    }\n",
       "\n",
       "    .dataframe tbody tr th {\n",
       "        vertical-align: top;\n",
       "    }\n",
       "\n",
       "    .dataframe thead th {\n",
       "        text-align: right;\n",
       "    }\n",
       "</style>\n",
       "<table border=\"1\" class=\"dataframe\">\n",
       "  <thead>\n",
       "    <tr style=\"text-align: right;\">\n",
       "      <th></th>\n",
       "      <th>start_ts</th>\n",
       "      <th>weather_conditions</th>\n",
       "      <th>duration_seconds</th>\n",
       "    </tr>\n",
       "  </thead>\n",
       "  <tbody>\n",
       "    <tr>\n",
       "      <th>946</th>\n",
       "      <td>2017-11-04 15:00:00</td>\n",
       "      <td>Good</td>\n",
       "      <td>3180.0</td>\n",
       "    </tr>\n",
       "    <tr>\n",
       "      <th>580</th>\n",
       "      <td>2017-11-04 13:00:00</td>\n",
       "      <td>Good</td>\n",
       "      <td>3420.0</td>\n",
       "    </tr>\n",
       "    <tr>\n",
       "      <th>864</th>\n",
       "      <td>2017-11-11 13:00:00</td>\n",
       "      <td>Good</td>\n",
       "      <td>1980.0</td>\n",
       "    </tr>\n",
       "    <tr>\n",
       "      <th>543</th>\n",
       "      <td>2017-11-18 06:00:00</td>\n",
       "      <td>Good</td>\n",
       "      <td>1500.0</td>\n",
       "    </tr>\n",
       "    <tr>\n",
       "      <th>689</th>\n",
       "      <td>2017-11-11 11:00:00</td>\n",
       "      <td>Good</td>\n",
       "      <td>1440.0</td>\n",
       "    </tr>\n",
       "    <tr>\n",
       "      <th>656</th>\n",
       "      <td>2017-11-11 06:00:00</td>\n",
       "      <td>Good</td>\n",
       "      <td>1440.0</td>\n",
       "    </tr>\n",
       "    <tr>\n",
       "      <th>912</th>\n",
       "      <td>2017-11-04 18:00:00</td>\n",
       "      <td>Bad</td>\n",
       "      <td>2488.0</td>\n",
       "    </tr>\n",
       "    <tr>\n",
       "      <th>645</th>\n",
       "      <td>2017-11-18 18:00:00</td>\n",
       "      <td>Good</td>\n",
       "      <td>2460.0</td>\n",
       "    </tr>\n",
       "    <tr>\n",
       "      <th>412</th>\n",
       "      <td>2017-11-11 07:00:00</td>\n",
       "      <td>Good</td>\n",
       "      <td>1335.0</td>\n",
       "    </tr>\n",
       "    <tr>\n",
       "      <th>1067</th>\n",
       "      <td>2017-11-04 16:00:00</td>\n",
       "      <td>Bad</td>\n",
       "      <td>2834.0</td>\n",
       "    </tr>\n",
       "  </tbody>\n",
       "</table>\n",
       "</div>"
      ],
      "text/plain": [
       "                start_ts weather_conditions  duration_seconds\n",
       "946  2017-11-04 15:00:00               Good            3180.0\n",
       "580  2017-11-04 13:00:00               Good            3420.0\n",
       "864  2017-11-11 13:00:00               Good            1980.0\n",
       "543  2017-11-18 06:00:00               Good            1500.0\n",
       "689  2017-11-11 11:00:00               Good            1440.0\n",
       "656  2017-11-11 06:00:00               Good            1440.0\n",
       "912  2017-11-04 18:00:00                Bad            2488.0\n",
       "645  2017-11-18 18:00:00               Good            2460.0\n",
       "412  2017-11-11 07:00:00               Good            1335.0\n",
       "1067 2017-11-04 16:00:00                Bad            2834.0"
      ]
     },
     "metadata": {},
     "output_type": "display_data"
    },
    {
     "name": "stdout",
     "output_type": "stream",
     "text": [
      "<class 'pandas.core.frame.DataFrame'>\n",
      "RangeIndex: 1068 entries, 0 to 1067\n",
      "Data columns (total 3 columns):\n",
      " #   Column              Non-Null Count  Dtype         \n",
      "---  ------              --------------  -----         \n",
      " 0   start_ts            1068 non-null   datetime64[ns]\n",
      " 1   weather_conditions  1068 non-null   object        \n",
      " 2   duration_seconds    1068 non-null   float64       \n",
      "dtypes: datetime64[ns](1), float64(1), object(1)\n",
      "memory usage: 25.2+ KB\n"
     ]
    }
   ],
   "source": [
    "df_loop_ohare[\"start_ts\"] = pd.to_datetime(df_loop_ohare[\"start_ts\"])\n",
    "\n",
    "display(df_loop_ohare.sample(10))\n",
    "df_loop_ohare.info()"
   ]
  },
  {
   "cell_type": "markdown",
   "metadata": {},
   "source": [
    "Se corrigo el tipo de dato de la marca de tiempo."
   ]
  },
  {
   "cell_type": "markdown",
   "metadata": {},
   "source": [
    "## Analisis de los datos:\n",
    "\n",
    "Buscaremos los principales destinos de lso taxis, la cuota de mercado de las distintas empresas de taxis y generaremos graficos correspondientes."
   ]
  },
  {
   "cell_type": "code",
   "execution_count": 13,
   "metadata": {},
   "outputs": [
    {
     "data": {
      "text/html": [
       "<div>\n",
       "<style scoped>\n",
       "    .dataframe tbody tr th:only-of-type {\n",
       "        vertical-align: middle;\n",
       "    }\n",
       "\n",
       "    .dataframe tbody tr th {\n",
       "        vertical-align: top;\n",
       "    }\n",
       "\n",
       "    .dataframe thead th {\n",
       "        text-align: right;\n",
       "    }\n",
       "</style>\n",
       "<table border=\"1\" class=\"dataframe\">\n",
       "  <thead>\n",
       "    <tr style=\"text-align: right;\">\n",
       "      <th></th>\n",
       "      <th>dropoff_location_name</th>\n",
       "      <th>average_trips</th>\n",
       "    </tr>\n",
       "  </thead>\n",
       "  <tbody>\n",
       "    <tr>\n",
       "      <th>0</th>\n",
       "      <td>Loop</td>\n",
       "      <td>10727.466667</td>\n",
       "    </tr>\n",
       "    <tr>\n",
       "      <th>1</th>\n",
       "      <td>River North</td>\n",
       "      <td>9523.666667</td>\n",
       "    </tr>\n",
       "    <tr>\n",
       "      <th>2</th>\n",
       "      <td>Streeterville</td>\n",
       "      <td>6664.666667</td>\n",
       "    </tr>\n",
       "    <tr>\n",
       "      <th>3</th>\n",
       "      <td>West Loop</td>\n",
       "      <td>5163.666667</td>\n",
       "    </tr>\n",
       "    <tr>\n",
       "      <th>4</th>\n",
       "      <td>O'Hare</td>\n",
       "      <td>2546.900000</td>\n",
       "    </tr>\n",
       "    <tr>\n",
       "      <th>5</th>\n",
       "      <td>Lake View</td>\n",
       "      <td>2420.966667</td>\n",
       "    </tr>\n",
       "    <tr>\n",
       "      <th>6</th>\n",
       "      <td>Grant Park</td>\n",
       "      <td>2068.533333</td>\n",
       "    </tr>\n",
       "    <tr>\n",
       "      <th>7</th>\n",
       "      <td>Museum Campus</td>\n",
       "      <td>1510.000000</td>\n",
       "    </tr>\n",
       "    <tr>\n",
       "      <th>8</th>\n",
       "      <td>Gold Coast</td>\n",
       "      <td>1364.233333</td>\n",
       "    </tr>\n",
       "    <tr>\n",
       "      <th>9</th>\n",
       "      <td>Sheffield &amp; DePaul</td>\n",
       "      <td>1259.766667</td>\n",
       "    </tr>\n",
       "  </tbody>\n",
       "</table>\n",
       "</div>"
      ],
      "text/plain": [
       "  dropoff_location_name  average_trips\n",
       "0                  Loop   10727.466667\n",
       "1           River North    9523.666667\n",
       "2         Streeterville    6664.666667\n",
       "3             West Loop    5163.666667\n",
       "4                O'Hare    2546.900000\n",
       "5             Lake View    2420.966667\n",
       "6            Grant Park    2068.533333\n",
       "7         Museum Campus    1510.000000\n",
       "8            Gold Coast    1364.233333\n",
       "9    Sheffield & DePaul    1259.766667"
      ]
     },
     "metadata": {},
     "output_type": "display_data"
    }
   ],
   "source": [
    "top_drop = df_drop_avg.sort_values(\n",
    "    by=\"average_trips\", ascending=False).head(10)\n",
    "display(top_drop)"
   ]
  },
  {
   "cell_type": "code",
   "execution_count": 14,
   "metadata": {
    "scrolled": false
   },
   "outputs": [
    {
     "data": {
      "image/png": "[encoded data removed]",
      "text/plain": [
       "<Figure size 1000x600 with 1 Axes>"
      ]
     },
     "metadata": {},
     "output_type": "display_data"
    }
   ],
   "source": [
    "plt.figure(figsize=(10, 6))\n",
    "plt.bar(top_drop['dropoff_location_name'], top_drop['average_trips'])\n",
    "plt.xlabel('Lugar de destino')\n",
    "plt.ylabel('promedio de viajes por dia')\n",
    "plt.title('Promedio de viajes del top 10 destinos de taxis')\n",
    "plt.xticks(rotation=45)\n",
    "plt.grid()\n",
    "plt.show()"
   ]
  },
  {
   "cell_type": "markdown",
   "metadata": {},
   "source": [
    "Notamos que:\n",
    "- el destino mas común de los viajes en taxi en general es el barrio Loop.\n",
    "\n"
   ]
  },
  {
   "cell_type": "code",
   "execution_count": 15,
   "metadata": {},
   "outputs": [
    {
     "data": {
      "image/png": "[encoded data removed]",
      "text/plain": [
       "<Figure size 1000x600 with 1 Axes>"
      ]
     },
     "metadata": {},
     "output_type": "display_data"
    }
   ],
   "source": [
    "\n",
    "plt.figure(figsize=(10, 6))\n",
    "plt.bar(df_company_trips.head(10)[\"company_name\"],\n",
    "        df_company_trips.head(10)[\"trips_amount\"])\n",
    "plt.xlabel('Compañias')\n",
    "plt.ylabel('Cantidad promedio de viajes')\n",
    "plt.title('Promedio de viajes por compañia')\n",
    "plt.xticks(rotation=80)\n",
    "plt.grid()\n",
    "plt.show()"
   ]
  },
  {
   "cell_type": "markdown",
   "metadata": {},
   "source": [
    "Notamos que \n",
    "- la empresa con más viajes es flash cab casi doblando al segundo lugar.\n",
    "- la diferencia entre el segundo y tercer lugar es mucho menor.\n",
    "- La cantidad de viajes a Loop es aproximadamente la mitad de la cantdiad de viajes que realiza la empresa mas popular, de ahi su importancia.\n"
   ]
  },
  {
   "cell_type": "markdown",
   "metadata": {},
   "source": [
    "## Prueba de hipotesis:\n",
    "La hipotesis que se desea comprobar es: *\"La duración promedio de los viajes desde el Loop hasta el Aeropuerto Internacional O'Hare cambia los sábados lluviosos\".*\n",
    "a través de df_loop_ohare que contiene los datos de tiempo, clima y fecha de los viajes del barrio al aeropuerto.\n",
    "\n",
    "\n",
    "Partiremos creando dos dataframes, dividiendo los sabados con y sin lluvia para luego coompararlos con una prueba T.\n"
   ]
  },
  {
   "cell_type": "code",
   "execution_count": 16,
   "metadata": {},
   "outputs": [],
   "source": [
    "df_loop_ohare_good = df_loop_ohare.query(\"weather_conditions == 'Good'\")\n",
    "df_loop_ohare_bad = df_loop_ohare.query(\"weather_conditions == 'Bad'\")"
   ]
  },
  {
   "cell_type": "code",
   "execution_count": 17,
   "metadata": {},
   "outputs": [
    {
     "data": {
      "image/png": "[encoded data removed]",
      "text/plain": [
       "<Figure size 1600x600 with 1 Axes>"
      ]
     },
     "metadata": {},
     "output_type": "display_data"
    }
   ],
   "source": [
    "plt.figure(figsize=(16, 6))\n",
    "plt.hist(df_loop_ohare_good[\"duration_seconds\"], alpha=0.8, bins=50)\n",
    "plt.hist(df_loop_ohare_bad[\"duration_seconds\"], alpha=0.8, bins=50)\n",
    "plt.xlabel('Duración (Segundos)')\n",
    "plt.ylabel('Cantidad de dias')\n",
    "plt.title('Histogramas de buen y mal (lluvioso) clima')\n",
    "plt.legend(['Buen clima', 'Mal clima (lluvioso) '])\n",
    "plt.grid()\n",
    "plt.show()"
   ]
  },
  {
   "cell_type": "markdown",
   "metadata": {},
   "source": [
    "Aunque ilustratvio, el histograma de buen (buen clima) es mucho mayor que el de mal (lluvioso) debido a la cantidad de eventos, es mucho mas comun tener un dia de buen clima que uno lluvioso, asi que procederemos a normalizar."
   ]
  },
  {
   "cell_type": "code",
   "execution_count": 18,
   "metadata": {},
   "outputs": [
    {
     "data": {
      "image/png": "[encoded data removed]",
      "text/plain": [
       "<Figure size 1600x600 with 1 Axes>"
      ]
     },
     "metadata": {},
     "output_type": "display_data"
    }
   ],
   "source": [
    "plt.figure(figsize=(16, 6))\n",
    "plt.hist(df_loop_ohare_good[\"duration_seconds\"],\n",
    "         alpha=0.8, density=True, bins=50)\n",
    "plt.hist(df_loop_ohare_bad[\"duration_seconds\"],\n",
    "         alpha=0.8, density=True, bins=50)\n",
    "plt.xlabel('Duración (Segundos)')\n",
    "plt.ylabel('Densidad de probabidad')\n",
    "plt.title('Histograma normalizado de buen y mal clima.')\n",
    "plt.legend(['Buen clima', 'Mal clima (lluvioso) '])\n",
    "plt.grid()\n",
    "plt.show()"
   ]
  },
  {
   "cell_type": "markdown",
   "metadata": {},
   "source": [
    "Con esta ilustración podemos notar que existen cambios en los tiempos de viaje.\n",
    "\n",
    "En busca de determinar el efecto de dichos cambios usaremos una prueba estadistica para rechazar alguna de las dos hipotesis siguientes:\n",
    "\n",
    "Hipotesis nula $H_0$: *\"La duración promedio de los viajes desde el Loop hasta el Aeropuerto Internacional O'Hare es igual todos los sábados\".*\n",
    "\n",
    "Hipotesis alternativa $H_1$: *\"La duración promedio de los viajes desde el Loop hasta el Aeropuerto Internacional O'Hare cambia los sábados lluviosos\".*\n",
    "\n",
    "Donde la hipotesis nula $H_0$ señala igualdad entre las medias y que no hay efecto estadístico por las lluvias, la hipotesis alternativa $H_1$ senala desigualdad entre las medias y apunta que si existe un efecto estadistico por el fenomeno señalado, la lluvia.\n",
    "Para rechazar alguna de estas hipotesis usaremos una prueba T y usaremos un valor de significancia estdistica $\\alpha$  holgado ($5$) pues el comportamiento es poco estricto.\n",
    "Previo a la prueba T, aplicaremos una prueba de levene para determinar si las varianzas de las dos muestras pueden ser consideradas iguales.\n"
   ]
  },
  {
   "cell_type": "markdown",
   "metadata": {},
   "source": [
    "Primero hacemos una prueba de levene, la cual tiene por hipotesis nula:\n",
    "\n",
    "*\"todas las muestras provienen de poblaciones con varianzas iguales\"*\n",
    "\n"
   ]
  },
  {
   "cell_type": "code",
   "execution_count": 19,
   "metadata": {},
   "outputs": [
    {
     "name": "stdout",
     "output_type": "stream",
     "text": [
      "valor p: 0.5332038671974493\n",
      "Rechazamos la hipótesis nula\n"
     ]
    }
   ],
   "source": [
    "res = st.levene(df_loop_ohare_good[\"duration_seconds\"],\n",
    "                df_loop_ohare_bad[\"duration_seconds\"])\n",
    "print('valor p:', res.pvalue)\n",
    "alpha = 5\n",
    "\n",
    "if (res.pvalue < alpha):\n",
    "    print(\"Rechazamos la hipótesis nula\")\n",
    "else:\n",
    "    print(\"No podemos rechazar la hipótesis nula\")"
   ]
  },
  {
   "cell_type": "markdown",
   "metadata": {},
   "source": [
    "como se puede ver, la prueba de levene  rechaza la hipótesis nula, por lo cual usaremos el parametro \"equal_var=False\" en la siguiente prueba T"
   ]
  },
  {
   "cell_type": "code",
   "execution_count": 20,
   "metadata": {},
   "outputs": [
    {
     "name": "stdout",
     "output_type": "stream",
     "text": [
      "valor p: 6.738994326108734e-12\n",
      "Rechazamos la hipótesis nula\n"
     ]
    }
   ],
   "source": [
    "\n",
    "\n",
    "alpha = 5  # tu código: establece un nivel crítico de significación estadística\n",
    "\n",
    "results = st.ttest_ind(df_loop_ohare_good[\"duration_seconds\"],\n",
    "                       df_loop_ohare_bad[\"duration_seconds\"], equal_var=False)\n",
    "\n",
    "print('valor p:', results.pvalue)\n",
    "\n",
    "if (results.pvalue < alpha):\n",
    "    print(\"Rechazamos la hipótesis nula\")\n",
    "else:\n",
    "    print(\"No podemos rechazar la hipótesis nula\")"
   ]
  },
  {
   "cell_type": "markdown",
   "metadata": {},
   "source": [
    "La prueba T rechaza la hipótesis nula. Por ello propondremos como **conclusión:** \n",
    "**\"La duración promedio de los viajes desde el Loop hasta el Aeropuerto Internacional O'Hare cambia los sábados lluviosos\"**"
   ]
  },
  {
   "cell_type": "markdown",
   "metadata": {},
   "source": [
    "## Conclusión General:\n",
    "\n",
    "A lo largo de este proyecto:\n",
    "1. Se extrajeron los datos de clima desde un sitio web, a través de python y beutiful soup.\n",
    "2. A través de SQL se realizó un analisis exploratorio de datos:\n",
    "    - se transformaron las tablas del sitio a tablas utiles para el proyecto.\n",
    "3. Se cargaron, exploraron y corrigieron las tablas generadas con SQL.\n",
    "    - Se corrigió el tipo de dato de las marcas de tiempo.\n",
    "5. Se graficó y encontraron las siguientes observaciónes:\n",
    "    - la empresa con más viajes es flash cab casi doblando al segundo lugar.\n",
    "    - la diferencia entre el segundo y tercer lugar es mucho menor.\n",
    "    - La cantidad de viajes a Loop es aproximadamente la mitad de la cantdiad de viajes que realiza la empresa mas popular, de ahi su importancia.\n",
    "    - el destino mas común de los viajes en taxi en general es el barrio Loop.\n",
    "6. Finalmente a través de pruebas estadisticas se rechazó la hipotesis nula, demostrando que las lluvias cambian el tiempo de viaje de \"Loop\" al aeropuerto.\n"
   ]
  }
 ],
 "metadata": {
  "ExecuteTimeLog": [
   {
    "duration": 5893,
    "start_time": "2024-05-30T18:14:57.883Z"
   },
   {
    "duration": 21,
    "start_time": "2024-05-30T18:15:26.502Z"
   },
   {
    "duration": 17,
    "start_time": "2024-05-30T18:34:18.309Z"
   },
   {
    "duration": 14,
    "start_time": "2024-05-30T18:34:24.402Z"
   },
   {
    "duration": 33,
    "start_time": "2024-05-30T18:37:02.584Z"
   },
   {
    "duration": 17,
    "start_time": "2024-05-30T18:37:11.844Z"
   },
   {
    "duration": 21,
    "start_time": "2024-05-30T18:55:26.882Z"
   },
   {
    "duration": 11,
    "start_time": "2024-05-30T18:55:29.696Z"
   },
   {
    "duration": 11,
    "start_time": "2024-05-30T18:55:36.915Z"
   },
   {
    "duration": 16,
    "start_time": "2024-05-30T18:55:42.970Z"
   },
   {
    "duration": 11,
    "start_time": "2024-05-30T18:55:47.635Z"
   },
   {
    "duration": 15,
    "start_time": "2024-05-30T18:56:04.132Z"
   },
   {
    "duration": 18,
    "start_time": "2024-05-30T19:48:01.795Z"
   },
   {
    "duration": 12,
    "start_time": "2024-05-30T19:49:41.308Z"
   },
   {
    "duration": 12,
    "start_time": "2024-05-30T19:50:03.444Z"
   },
   {
    "duration": 13,
    "start_time": "2024-05-30T19:50:13.138Z"
   },
   {
    "duration": 27,
    "start_time": "2024-05-30T19:50:18.699Z"
   },
   {
    "duration": 18,
    "start_time": "2024-05-30T19:50:24.213Z"
   },
   {
    "duration": 15,
    "start_time": "2024-05-30T19:50:40.316Z"
   },
   {
    "duration": 13,
    "start_time": "2024-05-30T19:50:45.404Z"
   },
   {
    "duration": 22,
    "start_time": "2024-05-30T19:50:53.588Z"
   },
   {
    "duration": 9,
    "start_time": "2024-05-30T20:11:36.260Z"
   },
   {
    "duration": 24,
    "start_time": "2024-05-30T20:14:23.815Z"
   },
   {
    "duration": 26,
    "start_time": "2024-05-30T20:14:47.763Z"
   },
   {
    "duration": 1220,
    "start_time": "2024-05-30T20:14:52.454Z"
   },
   {
    "duration": 24,
    "start_time": "2024-05-30T20:15:15.559Z"
   },
   {
    "duration": 11,
    "start_time": "2024-05-30T20:15:52.527Z"
   },
   {
    "duration": 6,
    "start_time": "2024-05-30T20:16:04.764Z"
   },
   {
    "duration": 17,
    "start_time": "2024-05-30T20:16:15.208Z"
   },
   {
    "duration": 27,
    "start_time": "2024-05-30T20:16:36.813Z"
   },
   {
    "duration": 39,
    "start_time": "2024-05-30T20:16:43.813Z"
   },
   {
    "duration": 29,
    "start_time": "2024-05-30T20:17:12.399Z"
   },
   {
    "duration": 12,
    "start_time": "2024-05-30T20:42:08.468Z"
   },
   {
    "duration": 5,
    "start_time": "2024-05-30T20:42:27.700Z"
   },
   {
    "duration": 4,
    "start_time": "2024-05-30T20:42:30.213Z"
   },
   {
    "duration": 29,
    "start_time": "2024-05-30T20:42:39.798Z"
   },
   {
    "duration": 11,
    "start_time": "2024-05-30T20:42:45.258Z"
   },
   {
    "duration": 16,
    "start_time": "2024-05-30T20:43:50.745Z"
   },
   {
    "duration": 11,
    "start_time": "2024-05-30T20:44:01.118Z"
   },
   {
    "duration": 24,
    "start_time": "2024-05-30T20:44:47.211Z"
   },
   {
    "duration": 12,
    "start_time": "2024-05-30T20:44:58.594Z"
   },
   {
    "duration": 7,
    "start_time": "2024-05-30T20:45:09.063Z"
   },
   {
    "duration": 26,
    "start_time": "2024-05-30T20:45:28.167Z"
   },
   {
    "duration": 12,
    "start_time": "2024-05-30T20:45:32.575Z"
   },
   {
    "duration": 243,
    "start_time": "2024-05-30T20:47:13.425Z"
   },
   {
    "duration": 246,
    "start_time": "2024-05-30T20:47:36.307Z"
   },
   {
    "duration": 105,
    "start_time": "2024-05-30T20:48:13.422Z"
   },
   {
    "duration": 45,
    "start_time": "2024-05-30T20:48:18.702Z"
   },
   {
    "duration": 45,
    "start_time": "2024-05-30T20:48:21.905Z"
   },
   {
    "duration": 1495,
    "start_time": "2024-05-30T20:48:49.211Z"
   },
   {
    "duration": 237,
    "start_time": "2024-05-30T21:04:54.742Z"
   },
   {
    "duration": 256,
    "start_time": "2024-05-30T21:05:06.367Z"
   },
   {
    "duration": 11,
    "start_time": "2024-05-30T21:05:51.479Z"
   },
   {
    "duration": 273,
    "start_time": "2024-05-30T21:05:59.360Z"
   },
   {
    "duration": 252,
    "start_time": "2024-05-30T21:06:07.801Z"
   },
   {
    "duration": 7,
    "start_time": "2024-05-30T21:06:48.456Z"
   },
   {
    "duration": 1341,
    "start_time": "2024-05-30T21:06:53.856Z"
   },
   {
    "duration": 314,
    "start_time": "2024-05-30T21:07:11.487Z"
   },
   {
    "duration": 320,
    "start_time": "2024-05-30T21:07:19.609Z"
   },
   {
    "duration": 262,
    "start_time": "2024-05-30T21:07:44.084Z"
   },
   {
    "duration": 8,
    "start_time": "2024-05-30T21:08:00.634Z"
   },
   {
    "duration": 6,
    "start_time": "2024-05-30T21:08:20.776Z"
   },
   {
    "duration": 299,
    "start_time": "2024-05-30T21:08:23.898Z"
   },
   {
    "duration": 339,
    "start_time": "2024-05-30T21:08:29.953Z"
   },
   {
    "duration": 501,
    "start_time": "2024-05-30T21:08:44.225Z"
   },
   {
    "duration": 295,
    "start_time": "2024-05-30T21:08:52.155Z"
   },
   {
    "duration": 305,
    "start_time": "2024-05-30T21:08:58.177Z"
   },
   {
    "duration": 300,
    "start_time": "2024-05-30T21:09:04.737Z"
   },
   {
    "duration": 312,
    "start_time": "2024-05-30T21:09:09.369Z"
   },
   {
    "duration": 473,
    "start_time": "2024-05-30T21:13:05.158Z"
   },
   {
    "duration": 470,
    "start_time": "2024-05-30T21:13:15.086Z"
   },
   {
    "duration": 452,
    "start_time": "2024-05-30T21:13:22.004Z"
   },
   {
    "duration": 1271,
    "start_time": "2024-05-30T21:13:35.640Z"
   },
   {
    "duration": 309,
    "start_time": "2024-05-30T21:13:53.917Z"
   },
   {
    "duration": 14277,
    "start_time": "2024-05-31T19:40:27.676Z"
   }
  ],
  "kernelspec": {
   "display_name": "Python 3 (ipykernel)",
   "language": "python",
   "name": "python3"
  },
  "language_info": {
   "codemirror_mode": {
    "name": "ipython",
    "version": 3
   },
   "file_extension": ".py",
   "mimetype": "text/x-python",
   "name": "python",
   "nbconvert_exporter": "python",
   "pygments_lexer": "ipython3",
   "version": "3.11.9"
  },
  "toc": {
   "base_numbering": 1,
   "nav_menu": {},
   "number_sections": true,
   "sideBar": true,
   "skip_h1_title": true,
   "title_cell": "Table of Contents",
   "title_sidebar": "Contents",
   "toc_cell": false,
   "toc_position": {},
   "toc_section_display": true,
   "toc_window_display": false
  }
 },
 "nbformat": 4,
 "nbformat_minor": 2
}
