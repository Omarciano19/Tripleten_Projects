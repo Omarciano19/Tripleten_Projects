{
 "cells": [
  {
   "cell_type": "markdown",
   "metadata": {},
   "source": [
    "**Omar Mancilla Martínez**"
   ]
  },
  {
   "cell_type": "markdown",
   "metadata": {},
   "source": [
    "# Proyecto 10: Modelo del volumen de nuevos pozos."
   ]
  },
  {
   "cell_type": "markdown",
   "metadata": {},
   "source": [
    "## Introducción:\n",
    "Buscamos encontrar la mejor región para abrir un par de cientos de pozos petroleros nuevos entre quinientas opciones. a través de un modelo de regresión lineal que prediga los beneficiós, y tras ello generar un reporte del estimado de ganancias.\n",
    "\n",
    "\n"
   ]
  },
  {
   "cell_type": "code",
   "execution_count": 1,
   "metadata": {},
   "outputs": [],
   "source": [
    "import pandas as pd\n",
    "import numpy as np\n",
    "from sklearn.model_selection import train_test_split\n",
    "from sklearn.linear_model import LinearRegression\n",
    "from sklearn.metrics import r2_score\n",
    "import matplotlib.pyplot as plt\n",
    "from sklearn.metrics import mean_squared_error\n",
    "\n",
    "\n",
    "from sklearn.utils import shuffle\n",
    "from sklearn.preprocessing import StandardScaler\n",
    "\n"
   ]
  },
  {
   "cell_type": "markdown",
   "metadata": {},
   "source": [
    "### Objetivos:\n",
    "Los objetivos de este notebook son:\n",
    "\n",
    "- Cargar y preprocesar los datos exploración geológica de las tres regiones.\n",
    "    - Escalar caracteristicas y codificar en caso de ser necesario.\n",
    "- Entrenar modelos de regresión lineal para las tres regiones:\n",
    "    - Analizar las posibles ganancias de los pozos.\n",
    "    - Comparar las ganancias entre las tres regiones.\n",
    "    - Determinar la región de mayor interes para invertir.\n",
    "- Generar un informe de riesgos y ganancias por región\n",
    "    "
   ]
  },
  {
   "cell_type": "markdown",
   "metadata": {},
   "source": [
    "### Diccionario de datos:\n",
    "- Caracteristicas:\n",
    "    - *id*: identificador único de pozo de petróleo\n",
    "    - *f0, f1, f2*: tres características de los puntos, sin significado concreto pero con relevancia para el proyecto.\n",
    "   \n",
    "- Objetivo:\n",
    "    - *product*: volumen de reservas en el pozo de petróleo (miles de barriles).\n",
    "\n",
    "\n",
    "Los datos estan divididos en tres archivos:\n",
    "- *geo_data_0.csv*\n",
    "- *geo_data_1.csv*\n",
    "- *geo_data_2.csv*\n",
    "\n",
    "Donde cada archivo representa una región diferente."
   ]
  },
  {
   "cell_type": "markdown",
   "metadata": {},
   "source": [
    "### Carga de datos y exploración inicial:\n",
    "Exploraremos los tres conjuntos de datos con ayuda de una función personalizada."
   ]
  },
  {
   "cell_type": "code",
   "execution_count": 2,
   "metadata": {},
   "outputs": [],
   "source": [
    "def exploracion_inicial(data):\n",
    "    print(f\"Exploración inicial del dataframe, \\nDiez primeros elementos:\")\n",
    "    display(data.sample(10))\n",
    "    print(f\"Información del dataframe:\")\n",
    "    data.info()\n",
    "    print(f\"Descripción cuantitativa:\")\n",
    "    display(data.describe())\n",
    "    print(f\"Valores únicos:\")\n",
    "    display(data.nunique())"
   ]
  },
  {
   "cell_type": "markdown",
   "metadata": {},
   "source": [
    "#### Data0"
   ]
  },
  {
   "cell_type": "code",
   "execution_count": 3,
   "metadata": {},
   "outputs": [
    {
     "name": "stdout",
     "output_type": "stream",
     "text": [
      "Exploración inicial del dataframe, \n",
      "Diez primeros elementos:\n"
     ]
    },
    {
     "data": {
      "text/html": [
       "<div>\n",
       "<style scoped>\n",
       "    .dataframe tbody tr th:only-of-type {\n",
       "        vertical-align: middle;\n",
       "    }\n",
       "\n",
       "    .dataframe tbody tr th {\n",
       "        vertical-align: top;\n",
       "    }\n",
       "\n",
       "    .dataframe thead th {\n",
       "        text-align: right;\n",
       "    }\n",
       "</style>\n",
       "<table border=\"1\" class=\"dataframe\">\n",
       "  <thead>\n",
       "    <tr style=\"text-align: right;\">\n",
       "      <th></th>\n",
       "      <th>id</th>\n",
       "      <th>f0</th>\n",
       "      <th>f1</th>\n",
       "      <th>f2</th>\n",
       "      <th>product</th>\n",
       "    </tr>\n",
       "  </thead>\n",
       "  <tbody>\n",
       "    <tr>\n",
       "      <th>920</th>\n",
       "      <td>XW6gb</td>\n",
       "      <td>-0.926368</td>\n",
       "      <td>0.128027</td>\n",
       "      <td>2.356430</td>\n",
       "      <td>160.520971</td>\n",
       "    </tr>\n",
       "    <tr>\n",
       "      <th>91838</th>\n",
       "      <td>XL5rM</td>\n",
       "      <td>1.065741</td>\n",
       "      <td>0.156944</td>\n",
       "      <td>1.830824</td>\n",
       "      <td>20.886763</td>\n",
       "    </tr>\n",
       "    <tr>\n",
       "      <th>85220</th>\n",
       "      <td>sg3Uy</td>\n",
       "      <td>0.179212</td>\n",
       "      <td>0.271513</td>\n",
       "      <td>-4.607216</td>\n",
       "      <td>73.110500</td>\n",
       "    </tr>\n",
       "    <tr>\n",
       "      <th>15686</th>\n",
       "      <td>EQsQ6</td>\n",
       "      <td>0.824203</td>\n",
       "      <td>0.754211</td>\n",
       "      <td>4.375545</td>\n",
       "      <td>48.270532</td>\n",
       "    </tr>\n",
       "    <tr>\n",
       "      <th>60898</th>\n",
       "      <td>SzXTx</td>\n",
       "      <td>-0.102008</td>\n",
       "      <td>0.341295</td>\n",
       "      <td>2.717420</td>\n",
       "      <td>110.949140</td>\n",
       "    </tr>\n",
       "    <tr>\n",
       "      <th>80876</th>\n",
       "      <td>scHYW</td>\n",
       "      <td>0.298949</td>\n",
       "      <td>0.836528</td>\n",
       "      <td>1.097777</td>\n",
       "      <td>128.355586</td>\n",
       "    </tr>\n",
       "    <tr>\n",
       "      <th>13631</th>\n",
       "      <td>hubjZ</td>\n",
       "      <td>0.611299</td>\n",
       "      <td>-0.305755</td>\n",
       "      <td>4.007679</td>\n",
       "      <td>120.444693</td>\n",
       "    </tr>\n",
       "    <tr>\n",
       "      <th>71125</th>\n",
       "      <td>dWLv4</td>\n",
       "      <td>0.408844</td>\n",
       "      <td>-0.332512</td>\n",
       "      <td>4.533001</td>\n",
       "      <td>97.757472</td>\n",
       "    </tr>\n",
       "    <tr>\n",
       "      <th>40586</th>\n",
       "      <td>PgQZk</td>\n",
       "      <td>0.825971</td>\n",
       "      <td>0.415299</td>\n",
       "      <td>2.274837</td>\n",
       "      <td>22.556922</td>\n",
       "    </tr>\n",
       "    <tr>\n",
       "      <th>24259</th>\n",
       "      <td>pfx3s</td>\n",
       "      <td>-0.867198</td>\n",
       "      <td>0.801625</td>\n",
       "      <td>3.183472</td>\n",
       "      <td>25.365776</td>\n",
       "    </tr>\n",
       "  </tbody>\n",
       "</table>\n",
       "</div>"
      ],
      "text/plain": [
       "          id        f0        f1        f2     product\n",
       "920    XW6gb -0.926368  0.128027  2.356430  160.520971\n",
       "91838  XL5rM  1.065741  0.156944  1.830824   20.886763\n",
       "85220  sg3Uy  0.179212  0.271513 -4.607216   73.110500\n",
       "15686  EQsQ6  0.824203  0.754211  4.375545   48.270532\n",
       "60898  SzXTx -0.102008  0.341295  2.717420  110.949140\n",
       "80876  scHYW  0.298949  0.836528  1.097777  128.355586\n",
       "13631  hubjZ  0.611299 -0.305755  4.007679  120.444693\n",
       "71125  dWLv4  0.408844 -0.332512  4.533001   97.757472\n",
       "40586  PgQZk  0.825971  0.415299  2.274837   22.556922\n",
       "24259  pfx3s -0.867198  0.801625  3.183472   25.365776"
      ]
     },
     "metadata": {},
     "output_type": "display_data"
    },
    {
     "name": "stdout",
     "output_type": "stream",
     "text": [
      "Información del dataframe:\n",
      "<class 'pandas.core.frame.DataFrame'>\n",
      "RangeIndex: 100000 entries, 0 to 99999\n",
      "Data columns (total 5 columns):\n",
      " #   Column   Non-Null Count   Dtype  \n",
      "---  ------   --------------   -----  \n",
      " 0   id       100000 non-null  object \n",
      " 1   f0       100000 non-null  float64\n",
      " 2   f1       100000 non-null  float64\n",
      " 3   f2       100000 non-null  float64\n",
      " 4   product  100000 non-null  float64\n",
      "dtypes: float64(4), object(1)\n",
      "memory usage: 3.8+ MB\n",
      "Descripción cuantitativa:\n"
     ]
    },
    {
     "data": {
      "text/html": [
       "<div>\n",
       "<style scoped>\n",
       "    .dataframe tbody tr th:only-of-type {\n",
       "        vertical-align: middle;\n",
       "    }\n",
       "\n",
       "    .dataframe tbody tr th {\n",
       "        vertical-align: top;\n",
       "    }\n",
       "\n",
       "    .dataframe thead th {\n",
       "        text-align: right;\n",
       "    }\n",
       "</style>\n",
       "<table border=\"1\" class=\"dataframe\">\n",
       "  <thead>\n",
       "    <tr style=\"text-align: right;\">\n",
       "      <th></th>\n",
       "      <th>f0</th>\n",
       "      <th>f1</th>\n",
       "      <th>f2</th>\n",
       "      <th>product</th>\n",
       "    </tr>\n",
       "  </thead>\n",
       "  <tbody>\n",
       "    <tr>\n",
       "      <th>count</th>\n",
       "      <td>100000.000000</td>\n",
       "      <td>100000.000000</td>\n",
       "      <td>100000.000000</td>\n",
       "      <td>100000.000000</td>\n",
       "    </tr>\n",
       "    <tr>\n",
       "      <th>mean</th>\n",
       "      <td>0.500419</td>\n",
       "      <td>0.250143</td>\n",
       "      <td>2.502647</td>\n",
       "      <td>92.500000</td>\n",
       "    </tr>\n",
       "    <tr>\n",
       "      <th>std</th>\n",
       "      <td>0.871832</td>\n",
       "      <td>0.504433</td>\n",
       "      <td>3.248248</td>\n",
       "      <td>44.288691</td>\n",
       "    </tr>\n",
       "    <tr>\n",
       "      <th>min</th>\n",
       "      <td>-1.408605</td>\n",
       "      <td>-0.848218</td>\n",
       "      <td>-12.088328</td>\n",
       "      <td>0.000000</td>\n",
       "    </tr>\n",
       "    <tr>\n",
       "      <th>25%</th>\n",
       "      <td>-0.072580</td>\n",
       "      <td>-0.200881</td>\n",
       "      <td>0.287748</td>\n",
       "      <td>56.497507</td>\n",
       "    </tr>\n",
       "    <tr>\n",
       "      <th>50%</th>\n",
       "      <td>0.502360</td>\n",
       "      <td>0.250252</td>\n",
       "      <td>2.515969</td>\n",
       "      <td>91.849972</td>\n",
       "    </tr>\n",
       "    <tr>\n",
       "      <th>75%</th>\n",
       "      <td>1.073581</td>\n",
       "      <td>0.700646</td>\n",
       "      <td>4.715088</td>\n",
       "      <td>128.564089</td>\n",
       "    </tr>\n",
       "    <tr>\n",
       "      <th>max</th>\n",
       "      <td>2.362331</td>\n",
       "      <td>1.343769</td>\n",
       "      <td>16.003790</td>\n",
       "      <td>185.364347</td>\n",
       "    </tr>\n",
       "  </tbody>\n",
       "</table>\n",
       "</div>"
      ],
      "text/plain": [
       "                  f0             f1             f2        product\n",
       "count  100000.000000  100000.000000  100000.000000  100000.000000\n",
       "mean        0.500419       0.250143       2.502647      92.500000\n",
       "std         0.871832       0.504433       3.248248      44.288691\n",
       "min        -1.408605      -0.848218     -12.088328       0.000000\n",
       "25%        -0.072580      -0.200881       0.287748      56.497507\n",
       "50%         0.502360       0.250252       2.515969      91.849972\n",
       "75%         1.073581       0.700646       4.715088     128.564089\n",
       "max         2.362331       1.343769      16.003790     185.364347"
      ]
     },
     "metadata": {},
     "output_type": "display_data"
    },
    {
     "name": "stdout",
     "output_type": "stream",
     "text": [
      "Valores únicos:\n"
     ]
    },
    {
     "data": {
      "text/plain": [
       "id          99990\n",
       "f0         100000\n",
       "f1         100000\n",
       "f2         100000\n",
       "product    100000\n",
       "dtype: int64"
      ]
     },
     "metadata": {},
     "output_type": "display_data"
    }
   ],
   "source": [
    "data0 = pd.read_csv('./data/geo_data_0.csv')\n",
    "exploracion_inicial(data0)"
   ]
  },
  {
   "cell_type": "markdown",
   "metadata": {},
   "source": [
    "De Data0 notamos que:\n",
    "- No tenemos datos nulos\n",
    "- Todas las columnas son relevantes para el modelo, sean caracteristicas u objetivos.\n",
    "- Las medianas y medias de las 4 columnas numericas son similares, podemos suponer distribución normal.\n",
    "- Las caracteristicas y objetivo necesitan ser escaladas.\n",
    "- Tenemos diez IDs repetidos.\n"
   ]
  },
  {
   "cell_type": "markdown",
   "metadata": {},
   "source": [
    "#### Data1"
   ]
  },
  {
   "cell_type": "code",
   "execution_count": 4,
   "metadata": {},
   "outputs": [
    {
     "name": "stdout",
     "output_type": "stream",
     "text": [
      "Exploración inicial del dataframe, \n",
      "Diez primeros elementos:\n"
     ]
    },
    {
     "data": {
      "text/html": [
       "<div>\n",
       "<style scoped>\n",
       "    .dataframe tbody tr th:only-of-type {\n",
       "        vertical-align: middle;\n",
       "    }\n",
       "\n",
       "    .dataframe tbody tr th {\n",
       "        vertical-align: top;\n",
       "    }\n",
       "\n",
       "    .dataframe thead th {\n",
       "        text-align: right;\n",
       "    }\n",
       "</style>\n",
       "<table border=\"1\" class=\"dataframe\">\n",
       "  <thead>\n",
       "    <tr style=\"text-align: right;\">\n",
       "      <th></th>\n",
       "      <th>id</th>\n",
       "      <th>f0</th>\n",
       "      <th>f1</th>\n",
       "      <th>f2</th>\n",
       "      <th>product</th>\n",
       "    </tr>\n",
       "  </thead>\n",
       "  <tbody>\n",
       "    <tr>\n",
       "      <th>81918</th>\n",
       "      <td>EZjIF</td>\n",
       "      <td>14.265509</td>\n",
       "      <td>-7.360836</td>\n",
       "      <td>3.000606</td>\n",
       "      <td>80.859783</td>\n",
       "    </tr>\n",
       "    <tr>\n",
       "      <th>91869</th>\n",
       "      <td>ZwjXB</td>\n",
       "      <td>1.064206</td>\n",
       "      <td>-12.147353</td>\n",
       "      <td>1.996310</td>\n",
       "      <td>57.085625</td>\n",
       "    </tr>\n",
       "    <tr>\n",
       "      <th>17776</th>\n",
       "      <td>GWttU</td>\n",
       "      <td>13.941932</td>\n",
       "      <td>-7.286749</td>\n",
       "      <td>1.002810</td>\n",
       "      <td>26.953261</td>\n",
       "    </tr>\n",
       "    <tr>\n",
       "      <th>72439</th>\n",
       "      <td>NcfUm</td>\n",
       "      <td>2.379061</td>\n",
       "      <td>-5.858004</td>\n",
       "      <td>2.005285</td>\n",
       "      <td>57.085625</td>\n",
       "    </tr>\n",
       "    <tr>\n",
       "      <th>83245</th>\n",
       "      <td>84oIG</td>\n",
       "      <td>-6.703069</td>\n",
       "      <td>-3.867452</td>\n",
       "      <td>2.002372</td>\n",
       "      <td>57.085625</td>\n",
       "    </tr>\n",
       "    <tr>\n",
       "      <th>87998</th>\n",
       "      <td>xVNYe</td>\n",
       "      <td>9.682243</td>\n",
       "      <td>-4.525772</td>\n",
       "      <td>4.999516</td>\n",
       "      <td>134.766305</td>\n",
       "    </tr>\n",
       "    <tr>\n",
       "      <th>48192</th>\n",
       "      <td>NgBbV</td>\n",
       "      <td>7.166648</td>\n",
       "      <td>-6.665187</td>\n",
       "      <td>4.999870</td>\n",
       "      <td>134.766305</td>\n",
       "    </tr>\n",
       "    <tr>\n",
       "      <th>4800</th>\n",
       "      <td>CAgYS</td>\n",
       "      <td>-11.826254</td>\n",
       "      <td>-6.786775</td>\n",
       "      <td>5.002201</td>\n",
       "      <td>137.945408</td>\n",
       "    </tr>\n",
       "    <tr>\n",
       "      <th>58330</th>\n",
       "      <td>WVuav</td>\n",
       "      <td>2.396913</td>\n",
       "      <td>-8.901273</td>\n",
       "      <td>-0.010665</td>\n",
       "      <td>0.000000</td>\n",
       "    </tr>\n",
       "    <tr>\n",
       "      <th>59538</th>\n",
       "      <td>rOHiq</td>\n",
       "      <td>4.049021</td>\n",
       "      <td>3.711450</td>\n",
       "      <td>3.992507</td>\n",
       "      <td>107.813044</td>\n",
       "    </tr>\n",
       "  </tbody>\n",
       "</table>\n",
       "</div>"
      ],
      "text/plain": [
       "          id         f0         f1        f2     product\n",
       "81918  EZjIF  14.265509  -7.360836  3.000606   80.859783\n",
       "91869  ZwjXB   1.064206 -12.147353  1.996310   57.085625\n",
       "17776  GWttU  13.941932  -7.286749  1.002810   26.953261\n",
       "72439  NcfUm   2.379061  -5.858004  2.005285   57.085625\n",
       "83245  84oIG  -6.703069  -3.867452  2.002372   57.085625\n",
       "87998  xVNYe   9.682243  -4.525772  4.999516  134.766305\n",
       "48192  NgBbV   7.166648  -6.665187  4.999870  134.766305\n",
       "4800   CAgYS -11.826254  -6.786775  5.002201  137.945408\n",
       "58330  WVuav   2.396913  -8.901273 -0.010665    0.000000\n",
       "59538  rOHiq   4.049021   3.711450  3.992507  107.813044"
      ]
     },
     "metadata": {},
     "output_type": "display_data"
    },
    {
     "name": "stdout",
     "output_type": "stream",
     "text": [
      "Información del dataframe:\n",
      "<class 'pandas.core.frame.DataFrame'>\n",
      "RangeIndex: 100000 entries, 0 to 99999\n",
      "Data columns (total 5 columns):\n",
      " #   Column   Non-Null Count   Dtype  \n",
      "---  ------   --------------   -----  \n",
      " 0   id       100000 non-null  object \n",
      " 1   f0       100000 non-null  float64\n",
      " 2   f1       100000 non-null  float64\n",
      " 3   f2       100000 non-null  float64\n",
      " 4   product  100000 non-null  float64\n",
      "dtypes: float64(4), object(1)\n",
      "memory usage: 3.8+ MB\n",
      "Descripción cuantitativa:\n"
     ]
    },
    {
     "data": {
      "text/html": [
       "<div>\n",
       "<style scoped>\n",
       "    .dataframe tbody tr th:only-of-type {\n",
       "        vertical-align: middle;\n",
       "    }\n",
       "\n",
       "    .dataframe tbody tr th {\n",
       "        vertical-align: top;\n",
       "    }\n",
       "\n",
       "    .dataframe thead th {\n",
       "        text-align: right;\n",
       "    }\n",
       "</style>\n",
       "<table border=\"1\" class=\"dataframe\">\n",
       "  <thead>\n",
       "    <tr style=\"text-align: right;\">\n",
       "      <th></th>\n",
       "      <th>f0</th>\n",
       "      <th>f1</th>\n",
       "      <th>f2</th>\n",
       "      <th>product</th>\n",
       "    </tr>\n",
       "  </thead>\n",
       "  <tbody>\n",
       "    <tr>\n",
       "      <th>count</th>\n",
       "      <td>100000.000000</td>\n",
       "      <td>100000.000000</td>\n",
       "      <td>100000.000000</td>\n",
       "      <td>100000.000000</td>\n",
       "    </tr>\n",
       "    <tr>\n",
       "      <th>mean</th>\n",
       "      <td>1.141296</td>\n",
       "      <td>-4.796579</td>\n",
       "      <td>2.494541</td>\n",
       "      <td>68.825000</td>\n",
       "    </tr>\n",
       "    <tr>\n",
       "      <th>std</th>\n",
       "      <td>8.965932</td>\n",
       "      <td>5.119872</td>\n",
       "      <td>1.703572</td>\n",
       "      <td>45.944423</td>\n",
       "    </tr>\n",
       "    <tr>\n",
       "      <th>min</th>\n",
       "      <td>-31.609576</td>\n",
       "      <td>-26.358598</td>\n",
       "      <td>-0.018144</td>\n",
       "      <td>0.000000</td>\n",
       "    </tr>\n",
       "    <tr>\n",
       "      <th>25%</th>\n",
       "      <td>-6.298551</td>\n",
       "      <td>-8.267985</td>\n",
       "      <td>1.000021</td>\n",
       "      <td>26.953261</td>\n",
       "    </tr>\n",
       "    <tr>\n",
       "      <th>50%</th>\n",
       "      <td>1.153055</td>\n",
       "      <td>-4.813172</td>\n",
       "      <td>2.011479</td>\n",
       "      <td>57.085625</td>\n",
       "    </tr>\n",
       "    <tr>\n",
       "      <th>75%</th>\n",
       "      <td>8.621015</td>\n",
       "      <td>-1.332816</td>\n",
       "      <td>3.999904</td>\n",
       "      <td>107.813044</td>\n",
       "    </tr>\n",
       "    <tr>\n",
       "      <th>max</th>\n",
       "      <td>29.421755</td>\n",
       "      <td>18.734063</td>\n",
       "      <td>5.019721</td>\n",
       "      <td>137.945408</td>\n",
       "    </tr>\n",
       "  </tbody>\n",
       "</table>\n",
       "</div>"
      ],
      "text/plain": [
       "                  f0             f1             f2        product\n",
       "count  100000.000000  100000.000000  100000.000000  100000.000000\n",
       "mean        1.141296      -4.796579       2.494541      68.825000\n",
       "std         8.965932       5.119872       1.703572      45.944423\n",
       "min       -31.609576     -26.358598      -0.018144       0.000000\n",
       "25%        -6.298551      -8.267985       1.000021      26.953261\n",
       "50%         1.153055      -4.813172       2.011479      57.085625\n",
       "75%         8.621015      -1.332816       3.999904     107.813044\n",
       "max        29.421755      18.734063       5.019721     137.945408"
      ]
     },
     "metadata": {},
     "output_type": "display_data"
    },
    {
     "name": "stdout",
     "output_type": "stream",
     "text": [
      "Valores únicos:\n"
     ]
    },
    {
     "data": {
      "text/plain": [
       "id          99996\n",
       "f0         100000\n",
       "f1         100000\n",
       "f2         100000\n",
       "product        12\n",
       "dtype: int64"
      ]
     },
     "metadata": {},
     "output_type": "display_data"
    }
   ],
   "source": [
    "data1 = pd.read_csv('./data/geo_data_1.csv')\n",
    "exploracion_inicial(data1)"
   ]
  },
  {
   "cell_type": "markdown",
   "metadata": {},
   "source": [
    "De Data1 notamos que:\n",
    "- No tenemos datos nulos\n",
    "- Todas las columnas son relevantes para el modelo, sean caracteristicas u objetivos.\n",
    "- Las medianas y medias de las 2 primeras columnas numericas son similares, podemos suponer distribución normal.\n",
    "- *F2* y *product* tienen su media y mediana suficientemente diferentes para requerir exploración adicional.\n",
    "- Las caracteristicas y objetivo necesitan ser escaladas.\n",
    "- tenemos 4 ids repetidos y pocos valores unicos de cantidad de barriles.\n"
   ]
  },
  {
   "cell_type": "markdown",
   "metadata": {},
   "source": [
    "#### Data2"
   ]
  },
  {
   "cell_type": "code",
   "execution_count": 5,
   "metadata": {},
   "outputs": [
    {
     "name": "stdout",
     "output_type": "stream",
     "text": [
      "Exploración inicial del dataframe, \n",
      "Diez primeros elementos:\n"
     ]
    },
    {
     "data": {
      "text/html": [
       "<div>\n",
       "<style scoped>\n",
       "    .dataframe tbody tr th:only-of-type {\n",
       "        vertical-align: middle;\n",
       "    }\n",
       "\n",
       "    .dataframe tbody tr th {\n",
       "        vertical-align: top;\n",
       "    }\n",
       "\n",
       "    .dataframe thead th {\n",
       "        text-align: right;\n",
       "    }\n",
       "</style>\n",
       "<table border=\"1\" class=\"dataframe\">\n",
       "  <thead>\n",
       "    <tr style=\"text-align: right;\">\n",
       "      <th></th>\n",
       "      <th>id</th>\n",
       "      <th>f0</th>\n",
       "      <th>f1</th>\n",
       "      <th>f2</th>\n",
       "      <th>product</th>\n",
       "    </tr>\n",
       "  </thead>\n",
       "  <tbody>\n",
       "    <tr>\n",
       "      <th>74445</th>\n",
       "      <td>kPK9E</td>\n",
       "      <td>-0.454581</td>\n",
       "      <td>1.604424</td>\n",
       "      <td>-0.120364</td>\n",
       "      <td>33.839954</td>\n",
       "    </tr>\n",
       "    <tr>\n",
       "      <th>46135</th>\n",
       "      <td>B54wI</td>\n",
       "      <td>0.200980</td>\n",
       "      <td>-1.056607</td>\n",
       "      <td>4.616416</td>\n",
       "      <td>126.375424</td>\n",
       "    </tr>\n",
       "    <tr>\n",
       "      <th>86403</th>\n",
       "      <td>1ZJ3q</td>\n",
       "      <td>-0.451209</td>\n",
       "      <td>2.126291</td>\n",
       "      <td>2.123196</td>\n",
       "      <td>70.804330</td>\n",
       "    </tr>\n",
       "    <tr>\n",
       "      <th>86232</th>\n",
       "      <td>weBje</td>\n",
       "      <td>-1.107263</td>\n",
       "      <td>-1.148177</td>\n",
       "      <td>6.043961</td>\n",
       "      <td>24.659960</td>\n",
       "    </tr>\n",
       "    <tr>\n",
       "      <th>65045</th>\n",
       "      <td>xPPFW</td>\n",
       "      <td>-0.143352</td>\n",
       "      <td>-1.372640</td>\n",
       "      <td>-4.047985</td>\n",
       "      <td>40.510882</td>\n",
       "    </tr>\n",
       "    <tr>\n",
       "      <th>17910</th>\n",
       "      <td>YikAS</td>\n",
       "      <td>-0.297967</td>\n",
       "      <td>-0.325741</td>\n",
       "      <td>4.736993</td>\n",
       "      <td>31.617130</td>\n",
       "    </tr>\n",
       "    <tr>\n",
       "      <th>62100</th>\n",
       "      <td>HwyxM</td>\n",
       "      <td>-1.380562</td>\n",
       "      <td>1.599532</td>\n",
       "      <td>5.520798</td>\n",
       "      <td>112.486450</td>\n",
       "    </tr>\n",
       "    <tr>\n",
       "      <th>19565</th>\n",
       "      <td>GA7i1</td>\n",
       "      <td>-1.442062</td>\n",
       "      <td>1.378344</td>\n",
       "      <td>3.753456</td>\n",
       "      <td>7.848929</td>\n",
       "    </tr>\n",
       "    <tr>\n",
       "      <th>8564</th>\n",
       "      <td>pL9Jj</td>\n",
       "      <td>-2.896548</td>\n",
       "      <td>-0.757484</td>\n",
       "      <td>-0.963811</td>\n",
       "      <td>119.001232</td>\n",
       "    </tr>\n",
       "    <tr>\n",
       "      <th>44095</th>\n",
       "      <td>SRqp4</td>\n",
       "      <td>0.804453</td>\n",
       "      <td>0.670527</td>\n",
       "      <td>6.330853</td>\n",
       "      <td>126.677654</td>\n",
       "    </tr>\n",
       "  </tbody>\n",
       "</table>\n",
       "</div>"
      ],
      "text/plain": [
       "          id        f0        f1        f2     product\n",
       "74445  kPK9E -0.454581  1.604424 -0.120364   33.839954\n",
       "46135  B54wI  0.200980 -1.056607  4.616416  126.375424\n",
       "86403  1ZJ3q -0.451209  2.126291  2.123196   70.804330\n",
       "86232  weBje -1.107263 -1.148177  6.043961   24.659960\n",
       "65045  xPPFW -0.143352 -1.372640 -4.047985   40.510882\n",
       "17910  YikAS -0.297967 -0.325741  4.736993   31.617130\n",
       "62100  HwyxM -1.380562  1.599532  5.520798  112.486450\n",
       "19565  GA7i1 -1.442062  1.378344  3.753456    7.848929\n",
       "8564   pL9Jj -2.896548 -0.757484 -0.963811  119.001232\n",
       "44095  SRqp4  0.804453  0.670527  6.330853  126.677654"
      ]
     },
     "metadata": {},
     "output_type": "display_data"
    },
    {
     "name": "stdout",
     "output_type": "stream",
     "text": [
      "Información del dataframe:\n",
      "<class 'pandas.core.frame.DataFrame'>\n",
      "RangeIndex: 100000 entries, 0 to 99999\n",
      "Data columns (total 5 columns):\n",
      " #   Column   Non-Null Count   Dtype  \n",
      "---  ------   --------------   -----  \n",
      " 0   id       100000 non-null  object \n",
      " 1   f0       100000 non-null  float64\n",
      " 2   f1       100000 non-null  float64\n",
      " 3   f2       100000 non-null  float64\n",
      " 4   product  100000 non-null  float64\n",
      "dtypes: float64(4), object(1)\n",
      "memory usage: 3.8+ MB\n",
      "Descripción cuantitativa:\n"
     ]
    },
    {
     "data": {
      "text/html": [
       "<div>\n",
       "<style scoped>\n",
       "    .dataframe tbody tr th:only-of-type {\n",
       "        vertical-align: middle;\n",
       "    }\n",
       "\n",
       "    .dataframe tbody tr th {\n",
       "        vertical-align: top;\n",
       "    }\n",
       "\n",
       "    .dataframe thead th {\n",
       "        text-align: right;\n",
       "    }\n",
       "</style>\n",
       "<table border=\"1\" class=\"dataframe\">\n",
       "  <thead>\n",
       "    <tr style=\"text-align: right;\">\n",
       "      <th></th>\n",
       "      <th>f0</th>\n",
       "      <th>f1</th>\n",
       "      <th>f2</th>\n",
       "      <th>product</th>\n",
       "    </tr>\n",
       "  </thead>\n",
       "  <tbody>\n",
       "    <tr>\n",
       "      <th>count</th>\n",
       "      <td>100000.000000</td>\n",
       "      <td>100000.000000</td>\n",
       "      <td>100000.000000</td>\n",
       "      <td>100000.000000</td>\n",
       "    </tr>\n",
       "    <tr>\n",
       "      <th>mean</th>\n",
       "      <td>0.002023</td>\n",
       "      <td>-0.002081</td>\n",
       "      <td>2.495128</td>\n",
       "      <td>95.000000</td>\n",
       "    </tr>\n",
       "    <tr>\n",
       "      <th>std</th>\n",
       "      <td>1.732045</td>\n",
       "      <td>1.730417</td>\n",
       "      <td>3.473445</td>\n",
       "      <td>44.749921</td>\n",
       "    </tr>\n",
       "    <tr>\n",
       "      <th>min</th>\n",
       "      <td>-8.760004</td>\n",
       "      <td>-7.084020</td>\n",
       "      <td>-11.970335</td>\n",
       "      <td>0.000000</td>\n",
       "    </tr>\n",
       "    <tr>\n",
       "      <th>25%</th>\n",
       "      <td>-1.162288</td>\n",
       "      <td>-1.174820</td>\n",
       "      <td>0.130359</td>\n",
       "      <td>59.450441</td>\n",
       "    </tr>\n",
       "    <tr>\n",
       "      <th>50%</th>\n",
       "      <td>0.009424</td>\n",
       "      <td>-0.009482</td>\n",
       "      <td>2.484236</td>\n",
       "      <td>94.925613</td>\n",
       "    </tr>\n",
       "    <tr>\n",
       "      <th>75%</th>\n",
       "      <td>1.158535</td>\n",
       "      <td>1.163678</td>\n",
       "      <td>4.858794</td>\n",
       "      <td>130.595027</td>\n",
       "    </tr>\n",
       "    <tr>\n",
       "      <th>max</th>\n",
       "      <td>7.238262</td>\n",
       "      <td>7.844801</td>\n",
       "      <td>16.739402</td>\n",
       "      <td>190.029838</td>\n",
       "    </tr>\n",
       "  </tbody>\n",
       "</table>\n",
       "</div>"
      ],
      "text/plain": [
       "                  f0             f1             f2        product\n",
       "count  100000.000000  100000.000000  100000.000000  100000.000000\n",
       "mean        0.002023      -0.002081       2.495128      95.000000\n",
       "std         1.732045       1.730417       3.473445      44.749921\n",
       "min        -8.760004      -7.084020     -11.970335       0.000000\n",
       "25%        -1.162288      -1.174820       0.130359      59.450441\n",
       "50%         0.009424      -0.009482       2.484236      94.925613\n",
       "75%         1.158535       1.163678       4.858794     130.595027\n",
       "max         7.238262       7.844801      16.739402     190.029838"
      ]
     },
     "metadata": {},
     "output_type": "display_data"
    },
    {
     "name": "stdout",
     "output_type": "stream",
     "text": [
      "Valores únicos:\n"
     ]
    },
    {
     "data": {
      "text/plain": [
       "id          99996\n",
       "f0         100000\n",
       "f1         100000\n",
       "f2         100000\n",
       "product    100000\n",
       "dtype: int64"
      ]
     },
     "metadata": {},
     "output_type": "display_data"
    }
   ],
   "source": [
    "data2 = pd.read_csv('./data/geo_data_2.csv')\n",
    "exploracion_inicial(data2)"
   ]
  },
  {
   "cell_type": "markdown",
   "metadata": {},
   "source": [
    "De Data2 notamos que:\n",
    "- No tenemos datos nulos\n",
    "- Todas las columnas son relevantes para el modelo, sean caracteristicas u objetivos.\n",
    "- Las medianas y medias de las 2 ultimas columnas numericas (*F2* y *product*) son similares, podemos suponer distribución normal.\n",
    "- *F0* y *F1* tienen su media y mediana suficientemente diferentes para requerir exploración adicional.\n",
    "- Las caracteristicas y objetivo necesitan ser escaladas."
   ]
  },
  {
   "cell_type": "markdown",
   "metadata": {},
   "source": [
    "## Pre-Procesamiento de Datos:\n",
    "Procedemos a eliminar los duplicados y datos nulos de todos los dataframes al igual que los *ids* duplicados, que representan menos del 1% de los datos; posteriormente dividiremos los datos en entrenamiento y validación, luego, para evitar el *data leakeage* escalaremos los datos de entrenamiento y con las metricas de dicho escalamiento normalizaremos los datos de validación; finalmente separaremos las caracteristicas del objetivo.\n",
    "\n",
    "\n",
    "### Datos nulos y duplicados:\n",
    "Corroboraremos que no haya datos nulos y eliminaremos cualquier duplicado.\n"
   ]
  },
  {
   "cell_type": "code",
   "execution_count": 6,
   "metadata": {},
   "outputs": [],
   "source": [
    "def data_preprocessing(data):\n",
    "    print(\"Datos nulos:\")\n",
    "    print(\"habia \",data[data.isnull().any(axis=1)].shape[0],\" datos nulos\")\n",
    "    display(data[data.isnull().any(axis=1)])\n",
    "\n",
    "    print(\"Datos duplicados:\")\n",
    "    print(\"habia \",data.duplicated().sum(),\" observaciones duplicadas\")\n",
    "    display(data[data.duplicated()])\n",
    "    \n",
    "    print(\"hay \",data.id.nunique(),\" ids únicos\")\n",
    "\n",
    "    data = data.drop_duplicates()\n",
    "    data = data.dropna()\n",
    "    data = data.drop_duplicates(subset='id')\n",
    "    return data"
   ]
  },
  {
   "cell_type": "code",
   "execution_count": 7,
   "metadata": {},
   "outputs": [
    {
     "name": "stdout",
     "output_type": "stream",
     "text": [
      "Data0:\n",
      "Datos nulos:\n",
      "habia  0  datos nulos\n"
     ]
    },
    {
     "data": {
      "text/html": [
       "<div>\n",
       "<style scoped>\n",
       "    .dataframe tbody tr th:only-of-type {\n",
       "        vertical-align: middle;\n",
       "    }\n",
       "\n",
       "    .dataframe tbody tr th {\n",
       "        vertical-align: top;\n",
       "    }\n",
       "\n",
       "    .dataframe thead th {\n",
       "        text-align: right;\n",
       "    }\n",
       "</style>\n",
       "<table border=\"1\" class=\"dataframe\">\n",
       "  <thead>\n",
       "    <tr style=\"text-align: right;\">\n",
       "      <th></th>\n",
       "      <th>id</th>\n",
       "      <th>f0</th>\n",
       "      <th>f1</th>\n",
       "      <th>f2</th>\n",
       "      <th>product</th>\n",
       "    </tr>\n",
       "  </thead>\n",
       "  <tbody>\n",
       "  </tbody>\n",
       "</table>\n",
       "</div>"
      ],
      "text/plain": [
       "Empty DataFrame\n",
       "Columns: [id, f0, f1, f2, product]\n",
       "Index: []"
      ]
     },
     "metadata": {},
     "output_type": "display_data"
    },
    {
     "name": "stdout",
     "output_type": "stream",
     "text": [
      "Datos duplicados:\n",
      "habia  0  observaciones duplicadas\n"
     ]
    },
    {
     "data": {
      "text/html": [
       "<div>\n",
       "<style scoped>\n",
       "    .dataframe tbody tr th:only-of-type {\n",
       "        vertical-align: middle;\n",
       "    }\n",
       "\n",
       "    .dataframe tbody tr th {\n",
       "        vertical-align: top;\n",
       "    }\n",
       "\n",
       "    .dataframe thead th {\n",
       "        text-align: right;\n",
       "    }\n",
       "</style>\n",
       "<table border=\"1\" class=\"dataframe\">\n",
       "  <thead>\n",
       "    <tr style=\"text-align: right;\">\n",
       "      <th></th>\n",
       "      <th>id</th>\n",
       "      <th>f0</th>\n",
       "      <th>f1</th>\n",
       "      <th>f2</th>\n",
       "      <th>product</th>\n",
       "    </tr>\n",
       "  </thead>\n",
       "  <tbody>\n",
       "  </tbody>\n",
       "</table>\n",
       "</div>"
      ],
      "text/plain": [
       "Empty DataFrame\n",
       "Columns: [id, f0, f1, f2, product]\n",
       "Index: []"
      ]
     },
     "metadata": {},
     "output_type": "display_data"
    },
    {
     "name": "stdout",
     "output_type": "stream",
     "text": [
      "hay  99990  ids únicos\n",
      "Data1:\n",
      "Datos nulos:\n",
      "habia  0  datos nulos\n"
     ]
    },
    {
     "data": {
      "text/html": [
       "<div>\n",
       "<style scoped>\n",
       "    .dataframe tbody tr th:only-of-type {\n",
       "        vertical-align: middle;\n",
       "    }\n",
       "\n",
       "    .dataframe tbody tr th {\n",
       "        vertical-align: top;\n",
       "    }\n",
       "\n",
       "    .dataframe thead th {\n",
       "        text-align: right;\n",
       "    }\n",
       "</style>\n",
       "<table border=\"1\" class=\"dataframe\">\n",
       "  <thead>\n",
       "    <tr style=\"text-align: right;\">\n",
       "      <th></th>\n",
       "      <th>id</th>\n",
       "      <th>f0</th>\n",
       "      <th>f1</th>\n",
       "      <th>f2</th>\n",
       "      <th>product</th>\n",
       "    </tr>\n",
       "  </thead>\n",
       "  <tbody>\n",
       "  </tbody>\n",
       "</table>\n",
       "</div>"
      ],
      "text/plain": [
       "Empty DataFrame\n",
       "Columns: [id, f0, f1, f2, product]\n",
       "Index: []"
      ]
     },
     "metadata": {},
     "output_type": "display_data"
    },
    {
     "name": "stdout",
     "output_type": "stream",
     "text": [
      "Datos duplicados:\n",
      "habia  0  observaciones duplicadas\n"
     ]
    },
    {
     "data": {
      "text/html": [
       "<div>\n",
       "<style scoped>\n",
       "    .dataframe tbody tr th:only-of-type {\n",
       "        vertical-align: middle;\n",
       "    }\n",
       "\n",
       "    .dataframe tbody tr th {\n",
       "        vertical-align: top;\n",
       "    }\n",
       "\n",
       "    .dataframe thead th {\n",
       "        text-align: right;\n",
       "    }\n",
       "</style>\n",
       "<table border=\"1\" class=\"dataframe\">\n",
       "  <thead>\n",
       "    <tr style=\"text-align: right;\">\n",
       "      <th></th>\n",
       "      <th>id</th>\n",
       "      <th>f0</th>\n",
       "      <th>f1</th>\n",
       "      <th>f2</th>\n",
       "      <th>product</th>\n",
       "    </tr>\n",
       "  </thead>\n",
       "  <tbody>\n",
       "  </tbody>\n",
       "</table>\n",
       "</div>"
      ],
      "text/plain": [
       "Empty DataFrame\n",
       "Columns: [id, f0, f1, f2, product]\n",
       "Index: []"
      ]
     },
     "metadata": {},
     "output_type": "display_data"
    },
    {
     "name": "stdout",
     "output_type": "stream",
     "text": [
      "hay  99996  ids únicos\n",
      "Data2:\n",
      "Datos nulos:\n",
      "habia  0  datos nulos\n"
     ]
    },
    {
     "data": {
      "text/html": [
       "<div>\n",
       "<style scoped>\n",
       "    .dataframe tbody tr th:only-of-type {\n",
       "        vertical-align: middle;\n",
       "    }\n",
       "\n",
       "    .dataframe tbody tr th {\n",
       "        vertical-align: top;\n",
       "    }\n",
       "\n",
       "    .dataframe thead th {\n",
       "        text-align: right;\n",
       "    }\n",
       "</style>\n",
       "<table border=\"1\" class=\"dataframe\">\n",
       "  <thead>\n",
       "    <tr style=\"text-align: right;\">\n",
       "      <th></th>\n",
       "      <th>id</th>\n",
       "      <th>f0</th>\n",
       "      <th>f1</th>\n",
       "      <th>f2</th>\n",
       "      <th>product</th>\n",
       "    </tr>\n",
       "  </thead>\n",
       "  <tbody>\n",
       "  </tbody>\n",
       "</table>\n",
       "</div>"
      ],
      "text/plain": [
       "Empty DataFrame\n",
       "Columns: [id, f0, f1, f2, product]\n",
       "Index: []"
      ]
     },
     "metadata": {},
     "output_type": "display_data"
    },
    {
     "name": "stdout",
     "output_type": "stream",
     "text": [
      "Datos duplicados:\n",
      "habia  0  observaciones duplicadas\n"
     ]
    },
    {
     "data": {
      "text/html": [
       "<div>\n",
       "<style scoped>\n",
       "    .dataframe tbody tr th:only-of-type {\n",
       "        vertical-align: middle;\n",
       "    }\n",
       "\n",
       "    .dataframe tbody tr th {\n",
       "        vertical-align: top;\n",
       "    }\n",
       "\n",
       "    .dataframe thead th {\n",
       "        text-align: right;\n",
       "    }\n",
       "</style>\n",
       "<table border=\"1\" class=\"dataframe\">\n",
       "  <thead>\n",
       "    <tr style=\"text-align: right;\">\n",
       "      <th></th>\n",
       "      <th>id</th>\n",
       "      <th>f0</th>\n",
       "      <th>f1</th>\n",
       "      <th>f2</th>\n",
       "      <th>product</th>\n",
       "    </tr>\n",
       "  </thead>\n",
       "  <tbody>\n",
       "  </tbody>\n",
       "</table>\n",
       "</div>"
      ],
      "text/plain": [
       "Empty DataFrame\n",
       "Columns: [id, f0, f1, f2, product]\n",
       "Index: []"
      ]
     },
     "metadata": {},
     "output_type": "display_data"
    },
    {
     "name": "stdout",
     "output_type": "stream",
     "text": [
      "hay  99996  ids únicos\n"
     ]
    }
   ],
   "source": [
    "print(\"Data0:\")\n",
    "data0=data_preprocessing(data0)\n",
    "print(\"Data1:\")\n",
    "data1=data_preprocessing(data1)\n",
    "print(\"Data2:\")\n",
    "data2=data_preprocessing(data2)"
   ]
  },
  {
   "cell_type": "markdown",
   "metadata": {},
   "source": [
    "Limpiamos los datos al:\n",
    "- Borrar duplicados\n",
    "- Borrar datos vacios\n",
    "- Borrar entradas con id's repetidas; esto considerando que son menos del 1% de datos totales."
   ]
  },
  {
   "cell_type": "markdown",
   "metadata": {},
   "source": [
    "### Remover Outliers"
   ]
  },
  {
   "cell_type": "code",
   "execution_count": null,
   "metadata": {},
   "outputs": [],
   "source": []
  },
  {
   "cell_type": "code",
   "execution_count": 8,
   "metadata": {},
   "outputs": [],
   "source": [
    "def remove_outliers(data, columns, threshold=3):\n",
    "    for column in columns:\n",
    "        mean = data[column].mean()\n",
    "        std = data[column].std()\n",
    "        data = data[(data[column] >= mean - threshold * std) & (data[column] <= mean + threshold * std)]\n",
    "    return data\n",
    "\n",
    "columns = [\"f0\", \"f1\", \"f2\", \"product\"]\n"
   ]
  },
  {
   "cell_type": "code",
   "execution_count": 9,
   "metadata": {},
   "outputs": [],
   "source": [
    "data0 = remove_outliers(data0, columns)\n",
    "data1 = remove_outliers(data1, columns)\n",
    "data2 = remove_outliers(data2, columns)\n"
   ]
  },
  {
   "cell_type": "markdown",
   "metadata": {},
   "source": [
    "### Separación en set de entrenamiento y de validación\n",
    "\n",
    "Dividiremos los tres datasets, cada uno en dos subsets donde uno sera para entrenamiento y otro para validación; esto tendra una proporción de $75:25$ respectivamente."
   ]
  },
  {
   "cell_type": "code",
   "execution_count": 10,
   "metadata": {},
   "outputs": [],
   "source": [
    "def split_train_val(data, test_size=0.25, random_state=12345):\n",
    "    data_train, data_val = train_test_split(data, test_size=test_size, random_state=random_state)\n",
    "    return data_train, data_val\n",
    "\n"
   ]
  },
  {
   "cell_type": "code",
   "execution_count": 11,
   "metadata": {},
   "outputs": [],
   "source": [
    "data_train0, data_val0 = split_train_val(data0)\n",
    "data_train1, data_val1 = split_train_val(data1)\n",
    "data_train2, data_val2 = split_train_val(data2)\n"
   ]
  },
  {
   "cell_type": "markdown",
   "metadata": {},
   "source": [
    "### Escalado de caracteristicas\n",
    "\n",
    "Escalaremos las caracteristicas en los sets de entrenamiento y usaremos las mismas metricas para escalar los sets de validación, esto para evitar el data leakeage."
   ]
  },
  {
   "cell_type": "code",
   "execution_count": 12,
   "metadata": {},
   "outputs": [],
   "source": [
    "numeric=[\"f0\",\"f1\",\"f2\"]\n",
    "\n",
    "def data_scaling(data_train, data_val):\n",
    "    scaler = StandardScaler()\n",
    "    scaler.fit(data_train[numeric])\n",
    "    data_train[numeric]=scaler.transform(data_train[numeric])\n",
    "    data_val[numeric]=scaler.transform(data_val[numeric])\n",
    "    return data_train, data_val\n"
   ]
  },
  {
   "cell_type": "code",
   "execution_count": 13,
   "metadata": {},
   "outputs": [],
   "source": [
    "data_train_scaled0, data_val_scaled0 = data_scaling(data_train0, data_val0)\n",
    "data_train_scaled1, data_val_scaled1 = data_scaling(data_train1, data_val1)\n",
    "data_train_scaled2, data_val_scaled2 = data_scaling(data_train2, data_val2)"
   ]
  },
  {
   "cell_type": "markdown",
   "metadata": {},
   "source": [
    "### Separación de caracteristicas y objetivos:\n",
    "Dividiremos los tres datasets, cada uno en dos subsets, uno contendra las caracteristicas (*F0, F1, F2*) y el otro el objetivo (*product*)."
   ]
  },
  {
   "cell_type": "code",
   "execution_count": 14,
   "metadata": {},
   "outputs": [],
   "source": [
    "def data_separation(data):\n",
    "    features=data.drop([\"product\",\"id\"],axis=1)\n",
    "    target=data[\"product\"]\n",
    "    return features,target\n"
   ]
  },
  {
   "cell_type": "code",
   "execution_count": 15,
   "metadata": {},
   "outputs": [],
   "source": [
    "features_train0,target_train0=data_separation(data_train_scaled0)\n",
    "features_val0,target_val0=data_separation(data_val_scaled0)\n",
    "\n",
    "features_train1,target_train1=data_separation(data_train_scaled1)\n",
    "features_val1,target_val1=data_separation(data_val_scaled1)\n",
    "\n",
    "features_train2,target_train2=data_separation(data_train_scaled2)\n",
    "features_val2,target_val2=data_separation(data_val_scaled2)\n"
   ]
  },
  {
   "cell_type": "markdown",
   "metadata": {},
   "source": [
    "## Analisis de los datos\n",
    "Generaremos un modelo de regresión logistica con los datos de data0, a cada paso se generara una función que posteriormente facilitara la creación de modelos para data1 y data2."
   ]
  },
  {
   "cell_type": "markdown",
   "metadata": {},
   "source": [
    "#### Primer modelo de **Regresión logistica**\n",
    "Generaremos un modelo con los datos de data0, guardaremos las predicciones y las analizaremos en contraste con los resultados reales, posteriormente obtendremos un modelo para data1 y data2.\n",
    "\n",
    "### Regresión de Data0."
   ]
  },
  {
   "cell_type": "code",
   "execution_count": 16,
   "metadata": {},
   "outputs": [],
   "source": [
    "def logistic_model(features_train, target_train, features_val, target_val):\n",
    "    model_logistic = LinearRegression()  # inicializa el constructor de modelos\n",
    "    model_logistic.fit(features_train, target_train)  # entrena el modelo en el conjunto de entrenamiento\n",
    "\n",
    "    predictions_valid = model_logistic.predict(features_val)  # obtén las predicciones del modelo en el conjunto de validación\n",
    "    predictions_train=model_logistic.predict(features_train)\n",
    "\n",
    "    R2_train=r2_score(target_train, predictions_train)\n",
    "    R2_val=r2_score(target_val, predictions_valid)\n",
    "\n",
    "    #print(\"R2 en entrenamiento:\", R2_train)\n",
    "    #print(\"Raiz del error cuadratico medio en el conjunto de entrenamiento:\", (mean_squared_error(target_train, predictions_train)**0.5))\n",
    "    print(\"R2 en validación:\", R2_val)\n",
    "    print(\"Raiz del error cuadratico medio en el conjunto de validación:\", (mean_squared_error(target_val, predictions_valid)**0.5))\n",
    "    \n",
    "    print(\"\\nEl volumen medio de reserservas predicho es:\",predictions_valid.mean(),\"\\nMientras que el volumen medio de reservas real es:\",target_val.mean(),\n",
    "    \"\\nEl error absoluto es:\",abs(predictions_valid.mean()-target_val.mean()),\n",
    "    \"\\nEl error relativo es:\",abs(predictions_valid.mean()-target_val.mean())/target_val.mean()*100,\"% \\n\")\n",
    "\n",
    "    return model_logistic, predictions_valid\n",
    "\n"
   ]
  },
  {
   "cell_type": "code",
   "execution_count": 17,
   "metadata": {},
   "outputs": [
    {
     "name": "stdout",
     "output_type": "stream",
     "text": [
      "R2 en validación: 0.2725959438742531\n",
      "Raiz del error cuadratico medio en el conjunto de validación: 37.64389454717906\n",
      "\n",
      "El volumen medio de reserservas predicho es: 92.51687354855495 \n",
      "Mientras que el volumen medio de reservas real es: 92.22875039016667 \n",
      "El error absoluto es: 0.28812315838828795 \n",
      "El error relativo es: 0.31240058785292546 % \n",
      "\n"
     ]
    }
   ],
   "source": [
    "model_logistic0, predictions_val0 = logistic_model(features_train0, target_train0, features_val0, target_val0)\n",
    "data_predict0=data_val0.copy()\n",
    "data_predict0[\"predictions\"]=predictions_val0\n"
   ]
  },
  {
   "cell_type": "markdown",
   "metadata": {},
   "source": [
    "#### Analizamos los resultados del modelo de data0:\n",
    "Encontramos dos resultados aparemente contrarios, por un lado nuestro modelo tiene un *error cuadratico medio* de $37.6$, el cual es relativamente alto, mientras que el *error en la predicción del volumen medio* es menor al $0.2\\%$.\n",
    "\n",
    "Parece implicar que el modelo no es fiable para predecir los valores particulares de cada pozo, sin embargo puede ser util para describir la generalidad de una región, en este caso la región de data0; lo cual es adecuado para nuestros objetivos. \n",
    "\n",
    "Veamos como se comportar con las demas regiones."
   ]
  },
  {
   "cell_type": "markdown",
   "metadata": {},
   "source": [
    "### Regresión de Data1"
   ]
  },
  {
   "cell_type": "code",
   "execution_count": 18,
   "metadata": {},
   "outputs": [
    {
     "name": "stdout",
     "output_type": "stream",
     "text": [
      "R2 en validación: 0.9996257318124872\n",
      "Raiz del error cuadratico medio en el conjunto de validación: 0.8902029677592128\n",
      "\n",
      "El volumen medio de reserservas predicho es: 68.95466966661901 \n",
      "Mientras que el volumen medio de reservas real es: 68.95331112071955 \n",
      "El error absoluto es: 0.0013585458994640476 \n",
      "El error relativo es: 0.0019702402645836435 % \n",
      "\n"
     ]
    }
   ],
   "source": [
    "model_logistic1, predictions_val1 = logistic_model(features_train1, target_train1, features_val1, target_val1)\n",
    "data_predict1=data_val1.copy()\n",
    "data_predict1[\"predictions\"]=predictions_val1"
   ]
  },
  {
   "cell_type": "markdown",
   "metadata": {},
   "source": [
    "### Regresión de Data2"
   ]
  },
  {
   "cell_type": "code",
   "execution_count": 19,
   "metadata": {},
   "outputs": [
    {
     "name": "stdout",
     "output_type": "stream",
     "text": [
      "R2 en validación: 0.19418675198650315\n",
      "Raiz del error cuadratico medio en el conjunto de validación: 40.28289858224426\n",
      "\n",
      "El volumen medio de reserservas predicho es: 94.91020960251845 \n",
      "Mientras que el volumen medio de reservas real es: 94.57403033810539 \n",
      "El error absoluto es: 0.3361792644130617 \n",
      "El error relativo es: 0.3554667842865629 % \n",
      "\n"
     ]
    }
   ],
   "source": [
    "model_logistic2, predictions_val2 = logistic_model(features_train2, target_train2, features_val2, target_val2)\n",
    "data_predict2=data_val2.copy()\n",
    "data_predict2[\"predictions\"]=predictions_val2"
   ]
  },
  {
   "cell_type": "markdown",
   "metadata": {},
   "source": [
    "### Analisis de los modelos"
   ]
  },
  {
   "cell_type": "markdown",
   "metadata": {},
   "source": [
    "Repasamos las metricas y predicciones de los modelos:\n",
    "\n",
    "- Para Data0:\n",
    "    - $R2_0=0.27$\n",
    "    - $RSME_0=37.58$\n",
    "    - $Vol_0=92.69 \\pm 0.63$\n",
    "\n",
    "- Para Data1:\n",
    "    - $R2_1=0.99$\n",
    "    - $RSME_1=0.89$\n",
    "    - $Vol_1=68.96 \\pm 0.003$\n",
    "\n",
    "- Para Data2:\n",
    "    - $R2_2=0.19$\n",
    "    - $RSME_2=40.21$\n",
    "    - $Vol_2=94.65 \\pm 0.63$\n",
    "\n",
    "Pese a que el modelo de data0 tiene un $R2$ bajo, el volumen medio predicho es muy similar al real, esto se repite con data1 y data2, pese a que los valores de $R2$ varian significativamente entre las regiones."
   ]
  },
  {
   "cell_type": "markdown",
   "metadata": {},
   "source": [
    "Ahora vizualizamos las predicciones en forma de histograma, donde los 200 pozos con mas volumen son graficados en negro."
   ]
  },
  {
   "cell_type": "code",
   "execution_count": 20,
   "metadata": {},
   "outputs": [
    {
     "data": {
      "image/png": "[encoded data removed]",
      "text/plain": [
       "<Figure size 1000x600 with 1 Axes>"
      ]
     },
     "metadata": {},
     "output_type": "display_data"
    },
    {
     "data": {
      "image/png": "[encoded data removed]",
      "text/plain": [
       "<Figure size 1000x600 with 1 Axes>"
      ]
     },
     "metadata": {},
     "output_type": "display_data"
    },
    {
     "data": {
      "image/png": "[encoded data removed]",
      "text/plain": [
       "<Figure size 1000x600 with 1 Axes>"
      ]
     },
     "metadata": {},
     "output_type": "display_data"
    }
   ],
   "source": [
    "# Histograma completo de predictions_val0\n",
    "plt.figure(figsize=(10, 6))\n",
    "plt.hist(predictions_val0, bins=50, color='blue', alpha=0.5, label='Completo')\n",
    "plt.hist(sorted(predictions_val0, reverse=True)[:200], bins=50, color='black', alpha=0.5, label='Top 200')\n",
    "plt.title('Histograma Completo y Top 200 de predictions_val0')\n",
    "plt.xlabel('Predictions')\n",
    "plt.ylabel('Frecuencia')\n",
    "plt.legend()\n",
    "plt.grid(True)\n",
    "plt.show()\n",
    "\n",
    "# Histograma completo de predictions_val1\n",
    "plt.figure(figsize=(10, 6))\n",
    "plt.hist(predictions_val1, bins=50, color='green', alpha=0.5, label='Completo')\n",
    "plt.hist(sorted(predictions_val1, reverse=True)[:200], bins=50, color='black', alpha=0.5, label='Top 200')\n",
    "plt.title('Histograma Completo y Top 200 de predictions_val1')\n",
    "plt.xlabel('Predictions')\n",
    "plt.ylabel('Frecuencia')\n",
    "plt.legend()\n",
    "plt.grid(True)\n",
    "plt.show()\n",
    "\n",
    "# Histograma completo de predictions_val2\n",
    "plt.figure(figsize=(10, 6))\n",
    "plt.hist(predictions_val2, bins=50, color='red', alpha=0.7, label='Completo')\n",
    "plt.hist(sorted(predictions_val2, reverse=True)[:200], bins=50, color='black', alpha=0.7, label='Top 200')\n",
    "plt.title('Histograma Completo y Top 200 de predictions_val2')\n",
    "plt.xlabel('Predictions')\n",
    "plt.ylabel('Frecuencia')\n",
    "plt.legend()\n",
    "plt.grid(True)\n",
    "plt.show()\n"
   ]
  },
  {
   "cell_type": "markdown",
   "metadata": {},
   "source": [
    " Podemos notar que pese a que el valor medio predicho de cada zona es menor que el requerido, existen muchos pozos con un volumen mayor al requerido permitiendo la rentabilidad."
   ]
  },
  {
   "cell_type": "markdown",
   "metadata": {},
   "source": [
    "### Analisis de ganancias\n",
    "Primero obtendremos los valores necesarios para los cálculos:\n",
    "- El presupuesto es de 100 millones de dolares.\n",
    "- El numero de pozos a abrir es de 200.\n",
    "- El volumen medio de reservas en cada región es:\n",
    "    - Data0: 92.69\n",
    "    - Data1: 68.96\n",
    "    - Data2: 94.65\n",
    "- El ingreso por unidad de producto, mil barrilesm es de 4500 dólares\n",
    "\n",
    "- la cantidad minima de reservas para evitar pérdidas es de 500,000 dolares por pozo.\n",
    "    - esto es equivalente a 111.1 unidades.\n",
    "- Ninguna región tiene un volumen medio igual o mayor a 111.1 unidades, por lo cual pareciera que ninguna región es rentable, sin embargo  como se vio en el histograma, todas las regiones poseen mas de 200 pozos con un volumen mayor a 111.1 unidades, permitiendo la rentabilidad.\n"
   ]
  },
  {
   "cell_type": "code",
   "execution_count": 21,
   "metadata": {},
   "outputs": [],
   "source": [
    "ingreso=4500\n",
    "num_pozos=200\n",
    "costo=500000"
   ]
  },
  {
   "cell_type": "code",
   "execution_count": 22,
   "metadata": {},
   "outputs": [],
   "source": [
    "def ganancias(data,ingreso, num_pozos,costo, imprimir=True):\n",
    "    data = data.sort_values(by=\"product\", ascending=False)\n",
    "    top = data.head(num_pozos)\n",
    "    ingresos=top[\"product\"].sum()*ingreso\n",
    "    beneficio_bruto=ingresos-(costo*num_pozos)\n",
    "    if imprimir:\n",
    "        print(\"La cantidad de ingresos generada por esta región será:\",ingresos,\n",
    "        \"\\nPor lo cual, el beneficio bruto será de:\",beneficio_bruto, \"dolares\")\n",
    "\n",
    "\n",
    "    return beneficio_bruto"
   ]
  },
  {
   "cell_type": "code",
   "execution_count": 23,
   "metadata": {},
   "outputs": [
    {
     "name": "stdout",
     "output_type": "stream",
     "text": [
      "La cantidad de ingresos generada por esta región será: 164735892.15034232 \n",
      "Por lo cual, el beneficio bruto será de: 64735892.150342315 dolares\n"
     ]
    }
   ],
   "source": [
    "Beneficio_bruto0=ganancias(data_predict0,ingreso, num_pozos,costo)"
   ]
  },
  {
   "cell_type": "code",
   "execution_count": 24,
   "metadata": {},
   "outputs": [
    {
     "name": "stdout",
     "output_type": "stream",
     "text": [
      "La cantidad de ingresos generada por esta región será: 124150866.96681511 \n",
      "Por lo cual, el beneficio bruto será de: 24150866.966815114 dolares\n"
     ]
    }
   ],
   "source": [
    "Beneficio_bruto1=ganancias(data_predict1,ingreso, num_pozos,costo)\n"
   ]
  },
  {
   "cell_type": "code",
   "execution_count": 25,
   "metadata": {},
   "outputs": [
    {
     "name": "stdout",
     "output_type": "stream",
     "text": [
      "La cantidad de ingresos generada por esta región será: 169223006.14967573 \n",
      "Por lo cual, el beneficio bruto será de: 69223006.14967573 dolares\n"
     ]
    }
   ],
   "source": [
    "Beneficio_bruto2=ganancias(data_predict2,ingreso, num_pozos,costo)"
   ]
  },
  {
   "cell_type": "code",
   "execution_count": 26,
   "metadata": {},
   "outputs": [
    {
     "data": {
      "text/html": [
       "<div>\n",
       "<style scoped>\n",
       "    .dataframe tbody tr th:only-of-type {\n",
       "        vertical-align: middle;\n",
       "    }\n",
       "\n",
       "    .dataframe tbody tr th {\n",
       "        vertical-align: top;\n",
       "    }\n",
       "\n",
       "    .dataframe thead th {\n",
       "        text-align: right;\n",
       "    }\n",
       "</style>\n",
       "<table border=\"1\" class=\"dataframe\">\n",
       "  <thead>\n",
       "    <tr style=\"text-align: right;\">\n",
       "      <th></th>\n",
       "      <th>Region</th>\n",
       "      <th>Beneficio Bruto</th>\n",
       "    </tr>\n",
       "  </thead>\n",
       "  <tbody>\n",
       "    <tr>\n",
       "      <th>2</th>\n",
       "      <td>2</td>\n",
       "      <td>6.922301e+07</td>\n",
       "    </tr>\n",
       "    <tr>\n",
       "      <th>0</th>\n",
       "      <td>0</td>\n",
       "      <td>6.473589e+07</td>\n",
       "    </tr>\n",
       "    <tr>\n",
       "      <th>1</th>\n",
       "      <td>1</td>\n",
       "      <td>2.415087e+07</td>\n",
       "    </tr>\n",
       "  </tbody>\n",
       "</table>\n",
       "</div>"
      ],
      "text/plain": [
       "   Region  Beneficio Bruto\n",
       "2       2     6.922301e+07\n",
       "0       0     6.473589e+07\n",
       "1       1     2.415087e+07"
      ]
     },
     "metadata": {},
     "output_type": "display_data"
    }
   ],
   "source": [
    "beneficios = [Beneficio_bruto0, Beneficio_bruto1, Beneficio_bruto2]\n",
    "display(pd.DataFrame({'Region': [0, 1, 2], 'Beneficio Bruto': beneficios}).sort_values(by=\"Beneficio Bruto\", ascending=False))\n"
   ]
  },
  {
   "cell_type": "markdown",
   "metadata": {},
   "source": [
    "Gracias a estos modelos, hemos podido determinar que las tres regiones son rentables, sin embargo, la región que posee mayor beneficio bruto es **data2**, dando el mayor beneficio bruto de **70,588,272 dolares.**\n"
   ]
  },
  {
   "cell_type": "markdown",
   "metadata": {},
   "source": [
    "## Riesgos y Ganancias:\n",
    "\n",
    "Procederemos a calcular el riesgo de cada región, esto mediante bootstraping.\n"
   ]
  },
  {
   "cell_type": "markdown",
   "metadata": {},
   "source": [
    "### Distribución de Benefició bruto\n",
    "Calcularemos a traves de bootstraping la distribución de beneficiós brutos para cada región a través de la siguiente funcíon:"
   ]
  },
  {
   "cell_type": "code",
   "execution_count": 27,
   "metadata": {},
   "outputs": [],
   "source": [
    "state = np.random.RandomState(12345)\n",
    "\n",
    "def bootstrap(data, ingreso, num_pozos, costo, n_samples=1000):\n",
    "    beneficios = []\n",
    "    for n in range(n_samples):\n",
    "        sample = data.sample(frac=1, replace=True, random_state=state)\n",
    "        beneficio_bruto = ganancias(sample, ingreso, num_pozos, costo, imprimir=False)\n",
    "        beneficios.append(beneficio_bruto)\n",
    "    return pd.DataFrame(beneficios)\n",
    "\n"
   ]
  },
  {
   "cell_type": "markdown",
   "metadata": {},
   "source": [
    "#### Región 0:"
   ]
  },
  {
   "cell_type": "code",
   "execution_count": 28,
   "metadata": {},
   "outputs": [],
   "source": [
    "# Calcular la distribución de los beneficios para la región 0\n",
    "bootstrap_beneficios0 = bootstrap(data_predict0, ingreso, num_pozos, costo)"
   ]
  },
  {
   "cell_type": "code",
   "execution_count": 29,
   "metadata": {},
   "outputs": [
    {
     "name": "stdout",
     "output_type": "stream",
     "text": [
      "Distribución de beneficios para la región 0:\n"
     ]
    },
    {
     "data": {
      "image/png": "[encoded data removed]",
      "text/plain": [
       "<Figure size 1000x600 with 1 Axes>"
      ]
     },
     "metadata": {},
     "output_type": "display_data"
    },
    {
     "data": {
      "text/html": [
       "<div>\n",
       "<style scoped>\n",
       "    .dataframe tbody tr th:only-of-type {\n",
       "        vertical-align: middle;\n",
       "    }\n",
       "\n",
       "    .dataframe tbody tr th {\n",
       "        vertical-align: top;\n",
       "    }\n",
       "\n",
       "    .dataframe thead th {\n",
       "        text-align: right;\n",
       "    }\n",
       "</style>\n",
       "<table border=\"1\" class=\"dataframe\">\n",
       "  <thead>\n",
       "    <tr style=\"text-align: right;\">\n",
       "      <th></th>\n",
       "      <th>0</th>\n",
       "    </tr>\n",
       "  </thead>\n",
       "  <tbody>\n",
       "    <tr>\n",
       "      <th>count</th>\n",
       "      <td>1.000000e+03</td>\n",
       "    </tr>\n",
       "    <tr>\n",
       "      <th>mean</th>\n",
       "      <td>6.472227e+07</td>\n",
       "    </tr>\n",
       "    <tr>\n",
       "      <th>std</th>\n",
       "      <td>1.569248e+05</td>\n",
       "    </tr>\n",
       "    <tr>\n",
       "      <th>min</th>\n",
       "      <td>6.419296e+07</td>\n",
       "    </tr>\n",
       "    <tr>\n",
       "      <th>25%</th>\n",
       "      <td>6.462193e+07</td>\n",
       "    </tr>\n",
       "    <tr>\n",
       "      <th>50%</th>\n",
       "      <td>6.472886e+07</td>\n",
       "    </tr>\n",
       "    <tr>\n",
       "      <th>75%</th>\n",
       "      <td>6.482695e+07</td>\n",
       "    </tr>\n",
       "    <tr>\n",
       "      <th>max</th>\n",
       "      <td>6.521812e+07</td>\n",
       "    </tr>\n",
       "  </tbody>\n",
       "</table>\n",
       "</div>"
      ],
      "text/plain": [
       "                  0\n",
       "count  1.000000e+03\n",
       "mean   6.472227e+07\n",
       "std    1.569248e+05\n",
       "min    6.419296e+07\n",
       "25%    6.462193e+07\n",
       "50%    6.472886e+07\n",
       "75%    6.482695e+07\n",
       "max    6.521812e+07"
      ]
     },
     "metadata": {},
     "output_type": "display_data"
    },
    {
     "data": {
      "text/html": [
       "<div>\n",
       "<style scoped>\n",
       "    .dataframe tbody tr th:only-of-type {\n",
       "        vertical-align: middle;\n",
       "    }\n",
       "\n",
       "    .dataframe tbody tr th {\n",
       "        vertical-align: top;\n",
       "    }\n",
       "\n",
       "    .dataframe thead th {\n",
       "        text-align: right;\n",
       "    }\n",
       "</style>\n",
       "<table border=\"1\" class=\"dataframe\">\n",
       "  <thead>\n",
       "    <tr style=\"text-align: right;\">\n",
       "      <th></th>\n",
       "      <th>0</th>\n",
       "    </tr>\n",
       "  </thead>\n",
       "  <tbody>\n",
       "    <tr>\n",
       "      <th>921</th>\n",
       "      <td>6.472973e+07</td>\n",
       "    </tr>\n",
       "    <tr>\n",
       "      <th>424</th>\n",
       "      <td>6.481443e+07</td>\n",
       "    </tr>\n",
       "    <tr>\n",
       "      <th>451</th>\n",
       "      <td>6.451346e+07</td>\n",
       "    </tr>\n",
       "    <tr>\n",
       "      <th>705</th>\n",
       "      <td>6.478998e+07</td>\n",
       "    </tr>\n",
       "    <tr>\n",
       "      <th>330</th>\n",
       "      <td>6.473298e+07</td>\n",
       "    </tr>\n",
       "  </tbody>\n",
       "</table>\n",
       "</div>"
      ],
      "text/plain": [
       "                0\n",
       "921  6.472973e+07\n",
       "424  6.481443e+07\n",
       "451  6.451346e+07\n",
       "705  6.478998e+07\n",
       "330  6.473298e+07"
      ]
     },
     "metadata": {},
     "output_type": "display_data"
    }
   ],
   "source": [
    "print(\"Distribución de beneficios para la región 0:\")\n",
    "\n",
    "plt.figure(figsize=(10, 6))\n",
    "plt.hist(bootstrap_beneficios0, bins=40, color='red', alpha=0.7, label='Region 0')\n",
    "plt.title('Histograma de los posibles beneficios de la región 0')\n",
    "plt.xlabel('estimados de ingresos')\n",
    "plt.ylabel('Frecuencia')\n",
    "plt.legend()\n",
    "plt.grid(True)\n",
    "plt.show()\n",
    "\n",
    "display(bootstrap_beneficios0.describe())\n",
    "display(bootstrap_beneficios0.sample(5))\n"
   ]
  },
  {
   "cell_type": "markdown",
   "metadata": {},
   "source": [
    "#### Región 1:"
   ]
  },
  {
   "cell_type": "code",
   "execution_count": 30,
   "metadata": {},
   "outputs": [],
   "source": [
    "# Calcular la distribución de los beneficios para la región 1\n",
    "bootstrap_beneficios1 = bootstrap(data_predict1, ingreso, num_pozos, costo)"
   ]
  },
  {
   "cell_type": "code",
   "execution_count": 31,
   "metadata": {},
   "outputs": [
    {
     "name": "stdout",
     "output_type": "stream",
     "text": [
      "Distribución de beneficios para la región 1:\n"
     ]
    },
    {
     "data": {
      "image/png": "[encoded data removed]",
      "text/plain": [
       "<Figure size 1000x600 with 1 Axes>"
      ]
     },
     "metadata": {},
     "output_type": "display_data"
    },
    {
     "data": {
      "text/html": [
       "<div>\n",
       "<style scoped>\n",
       "    .dataframe tbody tr th:only-of-type {\n",
       "        vertical-align: middle;\n",
       "    }\n",
       "\n",
       "    .dataframe tbody tr th {\n",
       "        vertical-align: top;\n",
       "    }\n",
       "\n",
       "    .dataframe thead th {\n",
       "        text-align: right;\n",
       "    }\n",
       "</style>\n",
       "<table border=\"1\" class=\"dataframe\">\n",
       "  <thead>\n",
       "    <tr style=\"text-align: right;\">\n",
       "      <th></th>\n",
       "      <th>0</th>\n",
       "    </tr>\n",
       "  </thead>\n",
       "  <tbody>\n",
       "    <tr>\n",
       "      <th>count</th>\n",
       "      <td>1.000000e+03</td>\n",
       "    </tr>\n",
       "    <tr>\n",
       "      <th>mean</th>\n",
       "      <td>2.415087e+07</td>\n",
       "    </tr>\n",
       "    <tr>\n",
       "      <th>std</th>\n",
       "      <td>3.727154e-09</td>\n",
       "    </tr>\n",
       "    <tr>\n",
       "      <th>min</th>\n",
       "      <td>2.415087e+07</td>\n",
       "    </tr>\n",
       "    <tr>\n",
       "      <th>25%</th>\n",
       "      <td>2.415087e+07</td>\n",
       "    </tr>\n",
       "    <tr>\n",
       "      <th>50%</th>\n",
       "      <td>2.415087e+07</td>\n",
       "    </tr>\n",
       "    <tr>\n",
       "      <th>75%</th>\n",
       "      <td>2.415087e+07</td>\n",
       "    </tr>\n",
       "    <tr>\n",
       "      <th>max</th>\n",
       "      <td>2.415087e+07</td>\n",
       "    </tr>\n",
       "  </tbody>\n",
       "</table>\n",
       "</div>"
      ],
      "text/plain": [
       "                  0\n",
       "count  1.000000e+03\n",
       "mean   2.415087e+07\n",
       "std    3.727154e-09\n",
       "min    2.415087e+07\n",
       "25%    2.415087e+07\n",
       "50%    2.415087e+07\n",
       "75%    2.415087e+07\n",
       "max    2.415087e+07"
      ]
     },
     "metadata": {},
     "output_type": "display_data"
    },
    {
     "data": {
      "text/html": [
       "<div>\n",
       "<style scoped>\n",
       "    .dataframe tbody tr th:only-of-type {\n",
       "        vertical-align: middle;\n",
       "    }\n",
       "\n",
       "    .dataframe tbody tr th {\n",
       "        vertical-align: top;\n",
       "    }\n",
       "\n",
       "    .dataframe thead th {\n",
       "        text-align: right;\n",
       "    }\n",
       "</style>\n",
       "<table border=\"1\" class=\"dataframe\">\n",
       "  <thead>\n",
       "    <tr style=\"text-align: right;\">\n",
       "      <th></th>\n",
       "      <th>0</th>\n",
       "    </tr>\n",
       "  </thead>\n",
       "  <tbody>\n",
       "    <tr>\n",
       "      <th>827</th>\n",
       "      <td>2.415087e+07</td>\n",
       "    </tr>\n",
       "    <tr>\n",
       "      <th>800</th>\n",
       "      <td>2.415087e+07</td>\n",
       "    </tr>\n",
       "    <tr>\n",
       "      <th>559</th>\n",
       "      <td>2.415087e+07</td>\n",
       "    </tr>\n",
       "    <tr>\n",
       "      <th>716</th>\n",
       "      <td>2.415087e+07</td>\n",
       "    </tr>\n",
       "    <tr>\n",
       "      <th>740</th>\n",
       "      <td>2.415087e+07</td>\n",
       "    </tr>\n",
       "  </tbody>\n",
       "</table>\n",
       "</div>"
      ],
      "text/plain": [
       "                0\n",
       "827  2.415087e+07\n",
       "800  2.415087e+07\n",
       "559  2.415087e+07\n",
       "716  2.415087e+07\n",
       "740  2.415087e+07"
      ]
     },
     "metadata": {},
     "output_type": "display_data"
    }
   ],
   "source": [
    "\n",
    "# Mostrar los resultados\n",
    "print(\"Distribución de beneficios para la región 1:\")\n",
    "\n",
    "plt.figure(figsize=(10, 6))\n",
    "plt.hist(bootstrap_beneficios1, bins=40, color='Blue', alpha=0.7, label='Region 1')\n",
    "plt.title('Histograma de los posibles beneficios de la región 1')\n",
    "plt.xlabel('estimados de ingresos')\n",
    "plt.ylabel('Frecuencia')\n",
    "plt.legend()\n",
    "plt.grid(True)\n",
    "plt.show()\n",
    "\n",
    "display(bootstrap_beneficios1.describe())\n",
    "display(bootstrap_beneficios1.sample(5))"
   ]
  },
  {
   "cell_type": "markdown",
   "metadata": {},
   "source": [
    "#### Región 2:"
   ]
  },
  {
   "cell_type": "code",
   "execution_count": 32,
   "metadata": {},
   "outputs": [],
   "source": [
    "\n",
    "# Calcular la distribución de los beneficios para la región 2\n",
    "bootstrap_beneficios2 = bootstrap(data_predict2, ingreso, num_pozos, costo)"
   ]
  },
  {
   "cell_type": "code",
   "execution_count": 33,
   "metadata": {},
   "outputs": [
    {
     "name": "stdout",
     "output_type": "stream",
     "text": [
      "Distribución de beneficios para la región 2:\n"
     ]
    },
    {
     "data": {
      "image/png": "[encoded data removed]",
      "text/plain": [
       "<Figure size 1000x600 with 1 Axes>"
      ]
     },
     "metadata": {},
     "output_type": "display_data"
    },
    {
     "data": {
      "text/html": [
       "<div>\n",
       "<style scoped>\n",
       "    .dataframe tbody tr th:only-of-type {\n",
       "        vertical-align: middle;\n",
       "    }\n",
       "\n",
       "    .dataframe tbody tr th {\n",
       "        vertical-align: top;\n",
       "    }\n",
       "\n",
       "    .dataframe thead th {\n",
       "        text-align: right;\n",
       "    }\n",
       "</style>\n",
       "<table border=\"1\" class=\"dataframe\">\n",
       "  <thead>\n",
       "    <tr style=\"text-align: right;\">\n",
       "      <th></th>\n",
       "      <th>0</th>\n",
       "    </tr>\n",
       "  </thead>\n",
       "  <tbody>\n",
       "    <tr>\n",
       "      <th>count</th>\n",
       "      <td>1.000000e+03</td>\n",
       "    </tr>\n",
       "    <tr>\n",
       "      <th>mean</th>\n",
       "      <td>6.921489e+07</td>\n",
       "    </tr>\n",
       "    <tr>\n",
       "      <th>std</th>\n",
       "      <td>1.590495e+05</td>\n",
       "    </tr>\n",
       "    <tr>\n",
       "      <th>min</th>\n",
       "      <td>6.873778e+07</td>\n",
       "    </tr>\n",
       "    <tr>\n",
       "      <th>25%</th>\n",
       "      <td>6.911284e+07</td>\n",
       "    </tr>\n",
       "    <tr>\n",
       "      <th>50%</th>\n",
       "      <td>6.921134e+07</td>\n",
       "    </tr>\n",
       "    <tr>\n",
       "      <th>75%</th>\n",
       "      <td>6.932442e+07</td>\n",
       "    </tr>\n",
       "    <tr>\n",
       "      <th>max</th>\n",
       "      <td>6.967134e+07</td>\n",
       "    </tr>\n",
       "  </tbody>\n",
       "</table>\n",
       "</div>"
      ],
      "text/plain": [
       "                  0\n",
       "count  1.000000e+03\n",
       "mean   6.921489e+07\n",
       "std    1.590495e+05\n",
       "min    6.873778e+07\n",
       "25%    6.911284e+07\n",
       "50%    6.921134e+07\n",
       "75%    6.932442e+07\n",
       "max    6.967134e+07"
      ]
     },
     "metadata": {},
     "output_type": "display_data"
    },
    {
     "data": {
      "text/html": [
       "<div>\n",
       "<style scoped>\n",
       "    .dataframe tbody tr th:only-of-type {\n",
       "        vertical-align: middle;\n",
       "    }\n",
       "\n",
       "    .dataframe tbody tr th {\n",
       "        vertical-align: top;\n",
       "    }\n",
       "\n",
       "    .dataframe thead th {\n",
       "        text-align: right;\n",
       "    }\n",
       "</style>\n",
       "<table border=\"1\" class=\"dataframe\">\n",
       "  <thead>\n",
       "    <tr style=\"text-align: right;\">\n",
       "      <th></th>\n",
       "      <th>0</th>\n",
       "    </tr>\n",
       "  </thead>\n",
       "  <tbody>\n",
       "    <tr>\n",
       "      <th>529</th>\n",
       "      <td>6.934343e+07</td>\n",
       "    </tr>\n",
       "    <tr>\n",
       "      <th>311</th>\n",
       "      <td>6.947239e+07</td>\n",
       "    </tr>\n",
       "    <tr>\n",
       "      <th>425</th>\n",
       "      <td>6.917193e+07</td>\n",
       "    </tr>\n",
       "    <tr>\n",
       "      <th>911</th>\n",
       "      <td>6.942254e+07</td>\n",
       "    </tr>\n",
       "    <tr>\n",
       "      <th>181</th>\n",
       "      <td>6.914839e+07</td>\n",
       "    </tr>\n",
       "  </tbody>\n",
       "</table>\n",
       "</div>"
      ],
      "text/plain": [
       "                0\n",
       "529  6.934343e+07\n",
       "311  6.947239e+07\n",
       "425  6.917193e+07\n",
       "911  6.942254e+07\n",
       "181  6.914839e+07"
      ]
     },
     "metadata": {},
     "output_type": "display_data"
    }
   ],
   "source": [
    "\n",
    "# Mostrar los resultados\n",
    "print(\"Distribución de beneficios para la región 2:\")\n",
    "\n",
    "plt.figure(figsize=(10, 6))\n",
    "plt.hist(bootstrap_beneficios2, bins=40, color='Green', alpha=0.7, label='Region 2')\n",
    "plt.title('Histograma de los posibles beneficios de la región 2')\n",
    "plt.xlabel('estimados de ingresos')\n",
    "plt.ylabel('Frecuencia')\n",
    "plt.legend()\n",
    "plt.grid(True)\n",
    "plt.show()\n",
    "\n",
    "display(bootstrap_beneficios2.describe())\n",
    "display(bootstrap_beneficios2.sample(5))"
   ]
  },
  {
   "cell_type": "markdown",
   "metadata": {},
   "source": [
    "### Calculo de beneficios promedio, el intervalo de confianza y el riesgo de perdidas:\n",
    "\n",
    "Procederemos a calcular multiples metricas relevantes para región con la siguiente función:"
   ]
  },
  {
   "cell_type": "code",
   "execution_count": 34,
   "metadata": {},
   "outputs": [],
   "source": [
    "def calcular_beneficios(bootstrap_beneficios):\n",
    "    beneficio_promedio = bootstrap_beneficios[0].mean()\n",
    "\n",
    "    intervalo_confianza = np.percentile(bootstrap_beneficios, [2.5, 97.5])\n",
    "\n",
    "    riesgo_perdidas = (bootstrap_beneficios <= 0).mean() * 100\n",
    "\n",
    "    # Mostrar los resultados\n",
    "    print(f\"Beneficio promedio: {beneficio_promedio}\")\n",
    "    print(f\"Intervalo de confianza del 95%: {intervalo_confianza}\")\n",
    "    print(f\"Riesgo de perdidas: {riesgo_perdidas} %\")\n",
    "\n",
    "    return beneficio_promedio, intervalo_confianza[0], intervalo_confianza[1], riesgo_perdidas\n",
    "\n"
   ]
  },
  {
   "cell_type": "markdown",
   "metadata": {},
   "source": [
    "##### Región 0:"
   ]
  },
  {
   "cell_type": "code",
   "execution_count": 35,
   "metadata": {},
   "outputs": [
    {
     "name": "stdout",
     "output_type": "stream",
     "text": [
      "Beneficio promedio: 64722266.20010089\n",
      "Intervalo de confianza del 95%: [64398199.08238062 65016471.58115491]\n",
      "Riesgo de perdidas: 0    0.0\n",
      "dtype: float64 %\n"
     ]
    }
   ],
   "source": [
    "\n",
    "beneficio_promedio0, intervalo_confianza_min0, intervalo_confianza_max0, riesgo_perdidas0=calcular_beneficios(bootstrap_beneficios0)\n"
   ]
  },
  {
   "cell_type": "markdown",
   "metadata": {},
   "source": [
    "##### Región 1:"
   ]
  },
  {
   "cell_type": "code",
   "execution_count": 36,
   "metadata": {},
   "outputs": [
    {
     "name": "stdout",
     "output_type": "stream",
     "text": [
      "Beneficio promedio: 24150866.966815118\n",
      "Intervalo de confianza del 95%: [24150866.96681511 24150866.96681511]\n",
      "Riesgo de perdidas: 0    0.0\n",
      "dtype: float64 %\n"
     ]
    }
   ],
   "source": [
    "beneficio_promedio1, intervalo_confianza_min1, intervalo_confianza_max1, riesgo_perdidas1=calcular_beneficios(bootstrap_beneficios1)\n"
   ]
  },
  {
   "cell_type": "markdown",
   "metadata": {},
   "source": [
    "##### Región 2:"
   ]
  },
  {
   "cell_type": "code",
   "execution_count": 37,
   "metadata": {},
   "outputs": [
    {
     "name": "stdout",
     "output_type": "stream",
     "text": [
      "Beneficio promedio: 69214892.81365584\n",
      "Intervalo de confianza del 95%: [68896570.88997939 69521970.58302256]\n",
      "Riesgo de perdidas: 0    0.0\n",
      "dtype: float64 %\n"
     ]
    }
   ],
   "source": [
    "\n",
    "beneficio_promedio2, intervalo_confianza_min2, intervalo_confianza_max2, riesgo_perdidas2=calcular_beneficios(bootstrap_beneficios2)\n"
   ]
  },
  {
   "cell_type": "markdown",
   "metadata": {},
   "source": [
    "### Analisis y observaciones:\n",
    "Podemos resumir la información anterior de la siguiente forma:\n"
   ]
  },
  {
   "cell_type": "code",
   "execution_count": 69,
   "metadata": {},
   "outputs": [
    {
     "data": {
      "text/html": [
       "<div>\n",
       "<style scoped>\n",
       "    .dataframe tbody tr th:only-of-type {\n",
       "        vertical-align: middle;\n",
       "    }\n",
       "\n",
       "    .dataframe tbody tr th {\n",
       "        vertical-align: top;\n",
       "    }\n",
       "\n",
       "    .dataframe thead th {\n",
       "        text-align: right;\n",
       "    }\n",
       "</style>\n",
       "<table border=\"1\" class=\"dataframe\">\n",
       "  <thead>\n",
       "    <tr style=\"text-align: right;\">\n",
       "      <th></th>\n",
       "      <th>Region</th>\n",
       "      <th>Beneficio Promedio</th>\n",
       "      <th>Intervalo inferior de Confianza</th>\n",
       "      <th>Intervalo superior de Confianza</th>\n",
       "      <th>Riesgo de Perdidas</th>\n",
       "    </tr>\n",
       "  </thead>\n",
       "  <tbody>\n",
       "    <tr>\n",
       "      <th>0</th>\n",
       "      <td>Región 0</td>\n",
       "      <td>6.472227e+07</td>\n",
       "      <td>6.439820e+07</td>\n",
       "      <td>6.501647e+07</td>\n",
       "      <td>0    0.0\n",
       "dtype: float64</td>\n",
       "    </tr>\n",
       "    <tr>\n",
       "      <th>1</th>\n",
       "      <td>Región 1</td>\n",
       "      <td>2.415087e+07</td>\n",
       "      <td>2.415087e+07</td>\n",
       "      <td>2.415087e+07</td>\n",
       "      <td>0    0.0\n",
       "dtype: float64</td>\n",
       "    </tr>\n",
       "    <tr>\n",
       "      <th>2</th>\n",
       "      <td>Región 2</td>\n",
       "      <td>6.921489e+07</td>\n",
       "      <td>6.889657e+07</td>\n",
       "      <td>6.952197e+07</td>\n",
       "      <td>0    0.0\n",
       "dtype: float64</td>\n",
       "    </tr>\n",
       "  </tbody>\n",
       "</table>\n",
       "</div>"
      ],
      "text/plain": [
       "     Region  Beneficio Promedio  Intervalo inferior de Confianza  \\\n",
       "0  Región 0        6.472227e+07                     6.439820e+07   \n",
       "1  Región 1        2.415087e+07                     2.415087e+07   \n",
       "2  Región 2        6.921489e+07                     6.889657e+07   \n",
       "\n",
       "   Intervalo superior de Confianza       Riesgo de Perdidas  \n",
       "0                     6.501647e+07  0    0.0\n",
       "dtype: float64  \n",
       "1                     2.415087e+07  0    0.0\n",
       "dtype: float64  \n",
       "2                     6.952197e+07  0    0.0\n",
       "dtype: float64  "
      ]
     },
     "metadata": {},
     "output_type": "display_data"
    }
   ],
   "source": [
    "df_beneficios = pd.DataFrame({\n",
    "    'Region': ['Región 0', 'Región 1', 'Región 2'],\n",
    "    'Beneficio Promedio': [beneficio_promedio0, beneficio_promedio1, beneficio_promedio2],\n",
    "    'Intervalo inferior de Confianza': [intervalo_confianza_min0, intervalo_confianza_min1, intervalo_confianza_min2],\n",
    "    'Intervalo superior de Confianza': [intervalo_confianza_max0, intervalo_confianza_max1, intervalo_confianza_max2],\n",
    "    'Riesgo de Perdidas': [riesgo_perdidas0, riesgo_perdidas1, riesgo_perdidas2]\n",
    "})\n",
    "\n",
    "display(df_beneficios)"
   ]
  },
  {
   "cell_type": "markdown",
   "metadata": {},
   "source": [
    "Y verla graficamente:"
   ]
  },
  {
   "cell_type": "code",
   "execution_count": 71,
   "metadata": {},
   "outputs": [
    {
     "data": {
      "image/png": "[encoded data removed]",
      "text/plain": [
       "<Figure size 1000x600 with 1 Axes>"
      ]
     },
     "metadata": {},
     "output_type": "display_data"
    }
   ],
   "source": [
    "# Graficamos\n",
    "fig, ax = plt.subplots(figsize=(10, 6))\n",
    "\n",
    "bars = df_beneficios.plot(x='Region', y='Beneficio Promedio', kind='bar', ax=ax, position=0, width=0.25, color='blue', label='Beneficio Promedio')\n",
    "\n",
    "for bar, yerr_min, yerr_max in zip(bars.patches, \n",
    "                                   abs(df_beneficios['Intervalo inferior de Confianza']-df_beneficios['Beneficio Promedio']), \n",
    "                                   abs(df_beneficios['Intervalo superior de Confianza']-df_beneficios['Beneficio Promedio'])):\n",
    "    ax.errorbar(bar.get_x() + bar.get_width() / 2, bar.get_height(), \n",
    "                yerr=[[yerr_min], [yerr_max]], \n",
    "                fmt='o', color='red', label='Intervalo de Confianza' if bar == bars.patches[0] else \"\", \n",
    "                capsize=25, capthick=1.5, elinewidth=1, markersize=4,alpha=0.8)\n",
    "\n",
    "plt.title('Beneficios Promedios e Intervalos de Confianza del 95%')\n",
    "plt.ylabel('Cantidad en Dolares')\n",
    "plt.grid()\n",
    "plt.legend()\n",
    "plt.show()\n"
   ]
  },
  {
   "cell_type": "markdown",
   "metadata": {},
   "source": [
    "Tanto del grafico como la tabla, podemos ver que´:\n",
    "- ninguna región representa un riesgo de perdida\n",
    "- la **región 2** es aquella con mejor beneficio promedio\n",
    "- la **región 2** es aquella con mejor intervalo de confianza\n",
    "- Se propone a la **región 2** como el lugar para abrir los pozos.\n",
    "\n",
    "De esta forma comparamos con la propuesta anterior, donde se coincide que la **región 2** es la adecuada para abrir los pozos."
   ]
  }
 ],
 "metadata": {
  "kernelspec": {
   "display_name": "Python 3",
   "language": "python",
   "name": "python3"
  },
  "language_info": {
   "codemirror_mode": {
    "name": "ipython",
    "version": 3
   },
   "file_extension": ".py",
   "mimetype": "text/x-python",
   "name": "python",
   "nbconvert_exporter": "python",
   "pygments_lexer": "ipython3",
   "version": "3.11.9"
  }
 },
 "nbformat": 4,
 "nbformat_minor": 2
}
